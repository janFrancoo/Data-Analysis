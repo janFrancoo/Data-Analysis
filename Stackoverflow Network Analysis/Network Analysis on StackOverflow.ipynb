{
 "cells": [
  {
   "cell_type": "markdown",
   "metadata": {},
   "source": [
    "# Social Network Analysis on Stackoverflow"
   ]
  },
  {
   "cell_type": "code",
   "execution_count": 1,
   "metadata": {},
   "outputs": [],
   "source": [
    "import re\n",
    "import ast\n",
    "import pandas as pd\n",
    "import networkx as nx\n",
    "import more_itertools\n",
    "import matplotlib.pyplot as plt\n",
    "import scipy as sp\n",
    "import collections\n",
    "import seaborn as sns\n",
    "import requests\n",
    "import math\n",
    "from wordcloud import WordCloud\n",
    "from difflib import SequenceMatcher\n",
    "from collections import Counter\n",
    "from scipy import stats"
   ]
  },
  {
   "cell_type": "markdown",
   "metadata": {},
   "source": [
    "## Exploring & Preprocessing"
   ]
  },
  {
   "cell_type": "code",
   "execution_count": 2,
   "metadata": {},
   "outputs": [
    {
     "data": {
      "text/html": [
       "<div>\n",
       "<style scoped>\n",
       "    .dataframe tbody tr th:only-of-type {\n",
       "        vertical-align: middle;\n",
       "    }\n",
       "\n",
       "    .dataframe tbody tr th {\n",
       "        vertical-align: top;\n",
       "    }\n",
       "\n",
       "    .dataframe thead th {\n",
       "        text-align: right;\n",
       "    }\n",
       "</style>\n",
       "<table border=\"1\" class=\"dataframe\">\n",
       "  <thead>\n",
       "    <tr style=\"text-align: right;\">\n",
       "      <th></th>\n",
       "      <th>QuestionID</th>\n",
       "      <th>IsAnswered</th>\n",
       "      <th>UserID</th>\n",
       "      <th>Tags</th>\n",
       "    </tr>\n",
       "  </thead>\n",
       "  <tbody>\n",
       "    <tr>\n",
       "      <td>0</td>\n",
       "      <td>59538132</td>\n",
       "      <td>True</td>\n",
       "      <td>1175327</td>\n",
       "      <td>['asp.net-core', 'iis', 'identityserver4', 'bl...</td>\n",
       "    </tr>\n",
       "    <tr>\n",
       "      <td>1</td>\n",
       "      <td>59538127</td>\n",
       "      <td>True</td>\n",
       "      <td>11217383</td>\n",
       "      <td>['android', 'android-constraintlayout']</td>\n",
       "    </tr>\n",
       "    <tr>\n",
       "      <td>2</td>\n",
       "      <td>59538126</td>\n",
       "      <td>True</td>\n",
       "      <td>12628540</td>\n",
       "      <td>['excel', 'excel-formula', 'sum']</td>\n",
       "    </tr>\n",
       "    <tr>\n",
       "      <td>3</td>\n",
       "      <td>59538123</td>\n",
       "      <td>True</td>\n",
       "      <td>12488144</td>\n",
       "      <td>['php', 'html', 'wordpress', 'dom', 'xpath']</td>\n",
       "    </tr>\n",
       "    <tr>\n",
       "      <td>4</td>\n",
       "      <td>59538122</td>\n",
       "      <td>False</td>\n",
       "      <td>10946509</td>\n",
       "      <td>['html', 'twitter-bootstrap', 'bootstrap-4']</td>\n",
       "    </tr>\n",
       "  </tbody>\n",
       "</table>\n",
       "</div>"
      ],
      "text/plain": [
       "   QuestionID  IsAnswered    UserID  \\\n",
       "0    59538132        True   1175327   \n",
       "1    59538127        True  11217383   \n",
       "2    59538126        True  12628540   \n",
       "3    59538123        True  12488144   \n",
       "4    59538122       False  10946509   \n",
       "\n",
       "                                                Tags  \n",
       "0  ['asp.net-core', 'iis', 'identityserver4', 'bl...  \n",
       "1            ['android', 'android-constraintlayout']  \n",
       "2                  ['excel', 'excel-formula', 'sum']  \n",
       "3       ['php', 'html', 'wordpress', 'dom', 'xpath']  \n",
       "4       ['html', 'twitter-bootstrap', 'bootstrap-4']  "
      ]
     },
     "execution_count": 2,
     "metadata": {},
     "output_type": "execute_result"
    }
   ],
   "source": [
    "# get questions - tags data\n",
    "\n",
    "tags_data = pd.read_csv(\"../../PycharmProjects/StackoverflowSNA/questions.csv\")\n",
    "tags_data.head()"
   ]
  },
  {
   "cell_type": "code",
   "execution_count": 3,
   "metadata": {},
   "outputs": [
    {
     "data": {
      "text/plain": [
       "0"
      ]
     },
     "execution_count": 3,
     "metadata": {},
     "output_type": "execute_result"
    }
   ],
   "source": [
    "tags_data[\"Tags\"].isnull().sum()"
   ]
  },
  {
   "cell_type": "code",
   "execution_count": 4,
   "metadata": {},
   "outputs": [
    {
     "data": {
      "text/plain": [
       "False"
      ]
     },
     "execution_count": 4,
     "metadata": {},
     "output_type": "execute_result"
    }
   ],
   "source": [
    "tags_data.isnull().values.any()"
   ]
  },
  {
   "cell_type": "code",
   "execution_count": 5,
   "metadata": {},
   "outputs": [
    {
     "data": {
      "text/plain": [
       "(1799655, 4)"
      ]
     },
     "execution_count": 5,
     "metadata": {},
     "output_type": "execute_result"
    }
   ],
   "source": [
    "tags_data.shape"
   ]
  },
  {
   "cell_type": "code",
   "execution_count": 6,
   "metadata": {},
   "outputs": [],
   "source": [
    "# get value counts\n",
    "\n",
    "tags_data_is_answered = tags_data.apply(pd.value_counts)"
   ]
  },
  {
   "cell_type": "code",
   "execution_count": 7,
   "metadata": {},
   "outputs": [
    {
     "data": {
      "text/html": [
       "<div>\n",
       "<style scoped>\n",
       "    .dataframe tbody tr th:only-of-type {\n",
       "        vertical-align: middle;\n",
       "    }\n",
       "\n",
       "    .dataframe tbody tr th {\n",
       "        vertical-align: top;\n",
       "    }\n",
       "\n",
       "    .dataframe thead th {\n",
       "        text-align: right;\n",
       "    }\n",
       "</style>\n",
       "<table border=\"1\" class=\"dataframe\">\n",
       "  <thead>\n",
       "    <tr style=\"text-align: right;\">\n",
       "      <th></th>\n",
       "      <th>QuestionID</th>\n",
       "      <th>IsAnswered</th>\n",
       "      <th>UserID</th>\n",
       "      <th>Tags</th>\n",
       "    </tr>\n",
       "  </thead>\n",
       "  <tbody>\n",
       "    <tr>\n",
       "      <td>False</td>\n",
       "      <td>NaN</td>\n",
       "      <td>743652.0</td>\n",
       "      <td>28082.0</td>\n",
       "      <td>NaN</td>\n",
       "    </tr>\n",
       "    <tr>\n",
       "      <td>True</td>\n",
       "      <td>NaN</td>\n",
       "      <td>1056003.0</td>\n",
       "      <td>NaN</td>\n",
       "      <td>NaN</td>\n",
       "    </tr>\n",
       "  </tbody>\n",
       "</table>\n",
       "</div>"
      ],
      "text/plain": [
       "       QuestionID  IsAnswered   UserID  Tags\n",
       "False         NaN    743652.0  28082.0   NaN\n",
       "True          NaN   1056003.0      NaN   NaN"
      ]
     },
     "execution_count": 7,
     "metadata": {},
     "output_type": "execute_result"
    }
   ],
   "source": [
    "tags_data_is_answered.head(2)"
   ]
  },
  {
   "cell_type": "code",
   "execution_count": 9,
   "metadata": {},
   "outputs": [
    {
     "data": {
      "image/png": "[encoded data removed]",
      "text/plain": [
       "<Figure size 432x432 with 1 Axes>"
      ]
     },
     "metadata": {},
     "output_type": "display_data"
    }
   ],
   "source": [
    "vals = [743652, 1056003]\n",
    "cats = [\"Not answered\", \"Answered\"]\n",
    "\n",
    "fig1, ax1 = plt.subplots(figsize=(6, 6))\n",
    "ax1.pie(vals, labels=cats, autopct='%1.1f%%', startangle=90)\n",
    "ax1.axis('equal')\n",
    "plt.show()"
   ]
  },
  {
   "cell_type": "code",
   "execution_count": 10,
   "metadata": {
    "scrolled": true
   },
   "outputs": [
    {
     "data": {
      "text/plain": [
       "0          None\n",
       "1          None\n",
       "2          None\n",
       "3          None\n",
       "4          None\n",
       "           ... \n",
       "1799650    None\n",
       "1799651    None\n",
       "1799652    None\n",
       "1799653    None\n",
       "1799654    None\n",
       "Length: 1799655, dtype: object"
      ]
     },
     "execution_count": 10,
     "metadata": {},
     "output_type": "execute_result"
    }
   ],
   "source": [
    "# get tag count (frequency)\n",
    "\n",
    "tag_count = dict()\n",
    "\n",
    "def get_tag_count(row):\n",
    "    global tag_count\n",
    "    tags_str = row[\"Tags\"]\n",
    "    tags = ast.literal_eval(tags_str)\n",
    "    for tag in tags:\n",
    "        if not tag in tag_count:\n",
    "            tag_count[tag] = 1\n",
    "        else:\n",
    "            tag_count[tag] = tag_count[tag] + 1\n",
    "\n",
    "\n",
    "tags_data.apply(get_tag_count, axis=1)"
   ]
  },
  {
   "cell_type": "code",
   "execution_count": 11,
   "metadata": {},
   "outputs": [
    {
     "data": {
      "text/plain": [
       "[('python', 227667),\n",
       " ('javascript', 191299),\n",
       " ('java', 128706),\n",
       " ('c#', 100970),\n",
       " ('android', 86712),\n",
       " ('php', 79970),\n",
       " ('html', 77747),\n",
       " ('python-3.x', 62110),\n",
       " ('reactjs', 60049),\n",
       " ('angular', 50964),\n",
       " ('r', 50713),\n",
       " ('css', 50650),\n",
       " ('c++', 50190),\n",
       " ('sql', 49787),\n",
       " ('node.js', 49145),\n",
       " ('pandas', 39184),\n",
       " ('mysql', 39161),\n",
       " ('jquery', 38736),\n",
       " ('swift', 35041),\n",
       " ('ios', 33325)]"
      ]
     },
     "execution_count": 11,
     "metadata": {},
     "output_type": "execute_result"
    }
   ],
   "source": [
    "# sort and get first 20 tag frequency\n",
    "\n",
    "tag_count_sorted = {k: v for k, v in sorted(tag_count.items(), key=lambda item: item[1], reverse=True)}\n",
    "tag_count_sorted = more_itertools.take(20, tag_count_sorted.items())\n",
    "tag_count_sorted"
   ]
  },
  {
   "cell_type": "code",
   "execution_count": 12,
   "metadata": {},
   "outputs": [
    {
     "data": {
      "image/png": "[encoded data removed]",
      "text/plain": [
       "<Figure size 432x288 with 1 Axes>"
      ]
     },
     "metadata": {
      "needs_background": "light"
     },
     "output_type": "display_data"
    }
   ],
   "source": [
    "# plot the tag frequency\n",
    "\n",
    "fig = plt.figure()\n",
    "ax = fig.add_axes([0, 0, 1, 1])\n",
    "langs = [i[0] for i in tag_count_sorted]\n",
    "vals = [i[1] for i in tag_count_sorted]\n",
    "ax.bar(langs,vals)\n",
    "plt.xticks(rotation='vertical')\n",
    "plt.show()"
   ]
  },
  {
   "cell_type": "code",
   "execution_count": 13,
   "metadata": {},
   "outputs": [
    {
     "data": {
      "text/plain": [
       "0          None\n",
       "1          None\n",
       "2          None\n",
       "3          None\n",
       "4          None\n",
       "           ... \n",
       "1799650    None\n",
       "1799651    None\n",
       "1799652    None\n",
       "1799653    None\n",
       "1799654    None\n",
       "Length: 1799655, dtype: object"
      ]
     },
     "execution_count": 13,
     "metadata": {},
     "output_type": "execute_result"
    }
   ],
   "source": [
    "# get tag count of unanswered questions (frequency)\n",
    "\n",
    "tag_count = dict()\n",
    "\n",
    "def get_tag_count(row):\n",
    "    global tag_count\n",
    "    is_answered = row[\"IsAnswered\"]\n",
    "    if is_answered == False:\n",
    "        tags_str = row[\"Tags\"]\n",
    "        tags = ast.literal_eval(tags_str)\n",
    "        for tag in tags:\n",
    "            if not tag in tag_count:\n",
    "                tag_count[tag] = 1\n",
    "            else:\n",
    "                tag_count[tag] = tag_count[tag] + 1\n",
    "\n",
    "\n",
    "tags_data.apply(get_tag_count, axis=1)"
   ]
  },
  {
   "cell_type": "code",
   "execution_count": 14,
   "metadata": {},
   "outputs": [
    {
     "data": {
      "text/plain": [
       "[('python', 83865),\n",
       " ('javascript', 73630),\n",
       " ('java', 56826),\n",
       " ('android', 43799),\n",
       " ('c#', 42250),\n",
       " ('php', 37375),\n",
       " ('html', 31029),\n",
       " ('reactjs', 23491),\n",
       " ('python-3.x', 23490),\n",
       " ('node.js', 22219),\n",
       " ('angular', 20958),\n",
       " ('css', 19227),\n",
       " ('r', 17776),\n",
       " ('mysql', 16866),\n",
       " ('c++', 16319),\n",
       " ('jquery', 16199),\n",
       " ('sql', 15653),\n",
       " ('ios', 15176),\n",
       " ('swift', 13811),\n",
       " ('django', 12666)]"
      ]
     },
     "execution_count": 14,
     "metadata": {},
     "output_type": "execute_result"
    }
   ],
   "source": [
    "# sort and get first 20 tag frequency of unanswered questions\n",
    "\n",
    "tag_count_sorted = {k: v for k, v in sorted(tag_count.items(), key=lambda item: item[1], reverse=True)}\n",
    "tag_count_sorted = more_itertools.take(20, tag_count_sorted.items())\n",
    "tag_count_sorted"
   ]
  },
  {
   "cell_type": "code",
   "execution_count": 15,
   "metadata": {},
   "outputs": [
    {
     "data": {
      "image/png": "[encoded data removed]",
      "text/plain": [
       "<Figure size 432x288 with 1 Axes>"
      ]
     },
     "metadata": {
      "needs_background": "light"
     },
     "output_type": "display_data"
    }
   ],
   "source": [
    "# plot the tag frequency\n",
    "\n",
    "fig = plt.figure()\n",
    "ax = fig.add_axes([0, 0, 1, 1])\n",
    "langs = [i[0] for i in tag_count_sorted]\n",
    "vals = [i[1] for i in tag_count_sorted]\n",
    "ax.bar(langs, vals, color=\"red\")\n",
    "plt.xticks(rotation='vertical')\n",
    "plt.show()"
   ]
  },
  {
   "cell_type": "code",
   "execution_count": 16,
   "metadata": {},
   "outputs": [
    {
     "data": {
      "text/plain": [
       "8291684     265\n",
       "1103606     246\n",
       "6813231     246\n",
       "1422604     237\n",
       "10823490    233\n",
       "4607841     230\n",
       "7954280     228\n",
       "5783745     222\n",
       "3317808     216\n",
       "577805      206\n",
       "Name: UserID, dtype: int64"
      ]
     },
     "execution_count": 16,
     "metadata": {},
     "output_type": "execute_result"
    }
   ],
   "source": [
    "# get user frequency\n",
    "\n",
    "user_id_occurance = tags_data[\"UserID\"].value_counts().iloc[1:11]\n",
    "user_id_occurance"
   ]
  },
  {
   "cell_type": "code",
   "execution_count": 17,
   "metadata": {},
   "outputs": [
    {
     "data": {
      "text/html": [
       "<div>\n",
       "<style scoped>\n",
       "    .dataframe tbody tr th:only-of-type {\n",
       "        vertical-align: middle;\n",
       "    }\n",
       "\n",
       "    .dataframe tbody tr th {\n",
       "        vertical-align: top;\n",
       "    }\n",
       "\n",
       "    .dataframe thead th {\n",
       "        text-align: right;\n",
       "    }\n",
       "</style>\n",
       "<table border=\"1\" class=\"dataframe\">\n",
       "  <thead>\n",
       "    <tr style=\"text-align: right;\">\n",
       "      <th></th>\n",
       "      <th>QuestionID</th>\n",
       "      <th>IsAnswered</th>\n",
       "      <th>UserID</th>\n",
       "      <th>Tags</th>\n",
       "    </tr>\n",
       "  </thead>\n",
       "  <tbody>\n",
       "    <tr>\n",
       "      <td>1381</td>\n",
       "      <td>59534418</td>\n",
       "      <td>False</td>\n",
       "      <td>577805</td>\n",
       "      <td>['asp.net-core', 'asp.net-core-3.0', 'asp.net-...</td>\n",
       "    </tr>\n",
       "    <tr>\n",
       "      <td>1534</td>\n",
       "      <td>59534021</td>\n",
       "      <td>True</td>\n",
       "      <td>577805</td>\n",
       "      <td>['npm', 'webpack']</td>\n",
       "    </tr>\n",
       "    <tr>\n",
       "      <td>3133</td>\n",
       "      <td>59529452</td>\n",
       "      <td>True</td>\n",
       "      <td>8291684</td>\n",
       "      <td>['angular', 'angular8']</td>\n",
       "    </tr>\n",
       "    <tr>\n",
       "      <td>7901</td>\n",
       "      <td>59516017</td>\n",
       "      <td>True</td>\n",
       "      <td>3317808</td>\n",
       "      <td>['amazon-web-services', 'amazon-ec2', 'amazon-...</td>\n",
       "    </tr>\n",
       "    <tr>\n",
       "      <td>8175</td>\n",
       "      <td>59515266</td>\n",
       "      <td>True</td>\n",
       "      <td>3317808</td>\n",
       "      <td>['amazon-web-services', 'amazon-ec2', 'amazon-...</td>\n",
       "    </tr>\n",
       "    <tr>\n",
       "      <td>...</td>\n",
       "      <td>...</td>\n",
       "      <td>...</td>\n",
       "      <td>...</td>\n",
       "      <td>...</td>\n",
       "    </tr>\n",
       "    <tr>\n",
       "      <td>1794577</td>\n",
       "      <td>54008558</td>\n",
       "      <td>True</td>\n",
       "      <td>7954280</td>\n",
       "      <td>['sql', 'db2']</td>\n",
       "    </tr>\n",
       "    <tr>\n",
       "      <td>1797224</td>\n",
       "      <td>54000157</td>\n",
       "      <td>True</td>\n",
       "      <td>3317808</td>\n",
       "      <td>['docker', 'dockerfile']</td>\n",
       "    </tr>\n",
       "    <tr>\n",
       "      <td>1797556</td>\n",
       "      <td>53999063</td>\n",
       "      <td>False</td>\n",
       "      <td>10823490</td>\n",
       "      <td>['javascript', 'asp.net']</td>\n",
       "    </tr>\n",
       "    <tr>\n",
       "      <td>1798112</td>\n",
       "      <td>53997214</td>\n",
       "      <td>True</td>\n",
       "      <td>10823490</td>\n",
       "      <td>['asp.net', 'webforms']</td>\n",
       "    </tr>\n",
       "    <tr>\n",
       "      <td>1799417</td>\n",
       "      <td>53992988</td>\n",
       "      <td>True</td>\n",
       "      <td>3317808</td>\n",
       "      <td>['linux', 'docker', 'kubernetes', 'docker-cont...</td>\n",
       "    </tr>\n",
       "  </tbody>\n",
       "</table>\n",
       "<p>2329 rows × 4 columns</p>\n",
       "</div>"
      ],
      "text/plain": [
       "         QuestionID  IsAnswered    UserID  \\\n",
       "1381       59534418       False    577805   \n",
       "1534       59534021        True    577805   \n",
       "3133       59529452        True   8291684   \n",
       "7901       59516017        True   3317808   \n",
       "8175       59515266        True   3317808   \n",
       "...             ...         ...       ...   \n",
       "1794577    54008558        True   7954280   \n",
       "1797224    54000157        True   3317808   \n",
       "1797556    53999063       False  10823490   \n",
       "1798112    53997214        True  10823490   \n",
       "1799417    53992988        True   3317808   \n",
       "\n",
       "                                                      Tags  \n",
       "1381     ['asp.net-core', 'asp.net-core-3.0', 'asp.net-...  \n",
       "1534                                    ['npm', 'webpack']  \n",
       "3133                               ['angular', 'angular8']  \n",
       "7901     ['amazon-web-services', 'amazon-ec2', 'amazon-...  \n",
       "8175     ['amazon-web-services', 'amazon-ec2', 'amazon-...  \n",
       "...                                                    ...  \n",
       "1794577                                     ['sql', 'db2']  \n",
       "1797224                           ['docker', 'dockerfile']  \n",
       "1797556                          ['javascript', 'asp.net']  \n",
       "1798112                            ['asp.net', 'webforms']  \n",
       "1799417  ['linux', 'docker', 'kubernetes', 'docker-cont...  \n",
       "\n",
       "[2329 rows x 4 columns]"
      ]
     },
     "execution_count": 17,
     "metadata": {},
     "output_type": "execute_result"
    }
   ],
   "source": [
    "# show the total number of questions asked by the most asking users and tags\n",
    "\n",
    "user_ids = list(user_id_occurance.index)\n",
    "tags_data[tags_data[\"UserID\"].isin(user_ids)]"
   ]
  },
  {
   "cell_type": "code",
   "execution_count": 18,
   "metadata": {
    "scrolled": true
   },
   "outputs": [
    {
     "data": {
      "text/plain": [
       "0          None\n",
       "1          None\n",
       "2          None\n",
       "3          None\n",
       "4          None\n",
       "           ... \n",
       "1799650    None\n",
       "1799651    None\n",
       "1799652    None\n",
       "1799653    None\n",
       "1799654    None\n",
       "Length: 1799655, dtype: object"
      ]
     },
     "execution_count": 18,
     "metadata": {},
     "output_type": "execute_result"
    }
   ],
   "source": [
    "# get all tags\n",
    "\n",
    "tags_set = set()\n",
    "\n",
    "def get_tags(row):\n",
    "    global tags_set, count\n",
    "    tags_str = row[\"Tags\"]\n",
    "    tags = set(ast.literal_eval(tags_str))\n",
    "    tags_set = tags_set | tags\n",
    "    \n",
    "tags_data.apply(get_tags, axis=1)"
   ]
  },
  {
   "cell_type": "code",
   "execution_count": 19,
   "metadata": {},
   "outputs": [
    {
     "data": {
      "text/plain": [
       "41536"
      ]
     },
     "execution_count": 19,
     "metadata": {},
     "output_type": "execute_result"
    }
   ],
   "source": [
    "tags_list = list(tags_set)\n",
    "len(tags_list)"
   ]
  },
  {
   "cell_type": "code",
   "execution_count": 20,
   "metadata": {
    "scrolled": true
   },
   "outputs": [
    {
     "name": "stdout",
     "output_type": "stream",
     "text": [
      "1185\n"
     ]
    },
    {
     "data": {
      "text/plain": [
       "'asp.net'"
      ]
     },
     "execution_count": 20,
     "metadata": {},
     "output_type": "execute_result"
    }
   ],
   "source": [
    "# remove similar tags\n",
    "\n",
    "\"\"\"\n",
    "def similar(a, b):\n",
    "    return SequenceMatcher(None, a, b).ratio()\n",
    "\n",
    "\n",
    "for tag_a in tags_list:\n",
    "    tags_list_tmp = [x for x in tags_list if x != tag_a]\n",
    "    for tag_b in tags_list_tmp:\n",
    "        sim = similar(tag_a, tag_b)\n",
    "        if sim > 0.9:\n",
    "            print(tag_a, tag_b)\n",
    "\"\"\"\n",
    "\n",
    "# This method generates lots of similar things like dagger - dragger, which is similar but not same thing\n",
    "# I decided to remove tags that are same things but different versions like asp.net-4.5 - asp.net-3.5\n",
    "# Not the best but better than nothing =)\n",
    "\n",
    "tags_with_versions = [tag for tag in tags_list if re.search(\"[a-zA-Z]-[0-9]\", tag)]\n",
    "print(len(tags_with_versions))\n",
    "\n",
    "def strip_version(tag):\n",
    "    return \"-\".join(tag.split(\"-\")[:-1])\n",
    "\n",
    "strip_version(\"asp.net-4.5\")\n",
    "\n",
    "# I will use this method in creating graph section later..."
   ]
  },
  {
   "cell_type": "code",
   "execution_count": 21,
   "metadata": {
    "scrolled": true
   },
   "outputs": [
    {
     "data": {
      "text/html": [
       "<div>\n",
       "<style scoped>\n",
       "    .dataframe tbody tr th:only-of-type {\n",
       "        vertical-align: middle;\n",
       "    }\n",
       "\n",
       "    .dataframe tbody tr th {\n",
       "        vertical-align: top;\n",
       "    }\n",
       "\n",
       "    .dataframe thead th {\n",
       "        text-align: right;\n",
       "    }\n",
       "</style>\n",
       "<table border=\"1\" class=\"dataframe\">\n",
       "  <thead>\n",
       "    <tr style=\"text-align: right;\">\n",
       "      <th></th>\n",
       "      <th>QuestionID</th>\n",
       "      <th>AnsweredUserIDs</th>\n",
       "    </tr>\n",
       "  </thead>\n",
       "  <tbody>\n",
       "    <tr>\n",
       "      <td>0</td>\n",
       "      <td>59538081</td>\n",
       "      <td>[2557682]</td>\n",
       "    </tr>\n",
       "    <tr>\n",
       "      <td>1</td>\n",
       "      <td>59538110</td>\n",
       "      <td>[485674, 485674, 12626835]</td>\n",
       "    </tr>\n",
       "    <tr>\n",
       "      <td>2</td>\n",
       "      <td>59538126</td>\n",
       "      <td>[12125181, 10671926, 4851590]</td>\n",
       "    </tr>\n",
       "    <tr>\n",
       "      <td>3</td>\n",
       "      <td>59538132</td>\n",
       "      <td>[5463242]</td>\n",
       "    </tr>\n",
       "    <tr>\n",
       "      <td>4</td>\n",
       "      <td>59538068</td>\n",
       "      <td>[10808802, 3234890]</td>\n",
       "    </tr>\n",
       "  </tbody>\n",
       "</table>\n",
       "</div>"
      ],
      "text/plain": [
       "   QuestionID                AnsweredUserIDs\n",
       "0    59538081                      [2557682]\n",
       "1    59538110     [485674, 485674, 12626835]\n",
       "2    59538126  [12125181, 10671926, 4851590]\n",
       "3    59538132                      [5463242]\n",
       "4    59538068            [10808802, 3234890]"
      ]
     },
     "execution_count": 21,
     "metadata": {},
     "output_type": "execute_result"
    }
   ],
   "source": [
    "# get question - respondents data\n",
    "\n",
    "answers_data = pd.read_csv(\"../../PycharmProjects/StackoverflowSNA/answers.csv\")\n",
    "answers_data.head()"
   ]
  },
  {
   "cell_type": "code",
   "execution_count": 22,
   "metadata": {
    "scrolled": false
   },
   "outputs": [
    {
     "data": {
      "text/plain": [
       "False"
      ]
     },
     "execution_count": 22,
     "metadata": {},
     "output_type": "execute_result"
    }
   ],
   "source": [
    "answers_data.isnull().values.any()"
   ]
  },
  {
   "cell_type": "code",
   "execution_count": 23,
   "metadata": {
    "scrolled": true
   },
   "outputs": [
    {
     "data": {
      "text/html": [
       "<div>\n",
       "<style scoped>\n",
       "    .dataframe tbody tr th:only-of-type {\n",
       "        vertical-align: middle;\n",
       "    }\n",
       "\n",
       "    .dataframe tbody tr th {\n",
       "        vertical-align: top;\n",
       "    }\n",
       "\n",
       "    .dataframe thead th {\n",
       "        text-align: right;\n",
       "    }\n",
       "</style>\n",
       "<table border=\"1\" class=\"dataframe\">\n",
       "  <thead>\n",
       "    <tr style=\"text-align: right;\">\n",
       "      <th></th>\n",
       "      <th>QuestionID</th>\n",
       "      <th>AnsweredUserIDs</th>\n",
       "    </tr>\n",
       "  </thead>\n",
       "  <tbody>\n",
       "    <tr>\n",
       "      <td>1036951</td>\n",
       "      <td>53992258</td>\n",
       "      <td>[10825793]</td>\n",
       "    </tr>\n",
       "    <tr>\n",
       "      <td>1036952</td>\n",
       "      <td>53992300</td>\n",
       "      <td>[5862071, 6815131]</td>\n",
       "    </tr>\n",
       "    <tr>\n",
       "      <td>1036953</td>\n",
       "      <td>53992233</td>\n",
       "      <td>[139985]</td>\n",
       "    </tr>\n",
       "    <tr>\n",
       "      <td>1036954</td>\n",
       "      <td>53992252</td>\n",
       "      <td>[1144035]</td>\n",
       "    </tr>\n",
       "    <tr>\n",
       "      <td>1036955</td>\n",
       "      <td>53992234</td>\n",
       "      <td>[4932316]</td>\n",
       "    </tr>\n",
       "  </tbody>\n",
       "</table>\n",
       "</div>"
      ],
      "text/plain": [
       "         QuestionID     AnsweredUserIDs\n",
       "1036951    53992258          [10825793]\n",
       "1036952    53992300  [5862071, 6815131]\n",
       "1036953    53992233            [139985]\n",
       "1036954    53992252           [1144035]\n",
       "1036955    53992234           [4932316]"
      ]
     },
     "execution_count": 23,
     "metadata": {},
     "output_type": "execute_result"
    }
   ],
   "source": [
    "answers_data.tail()"
   ]
  },
  {
   "cell_type": "code",
   "execution_count": 24,
   "metadata": {},
   "outputs": [
    {
     "data": {
      "text/html": [
       "<div>\n",
       "<style scoped>\n",
       "    .dataframe tbody tr th:only-of-type {\n",
       "        vertical-align: middle;\n",
       "    }\n",
       "\n",
       "    .dataframe tbody tr th {\n",
       "        vertical-align: top;\n",
       "    }\n",
       "\n",
       "    .dataframe thead th {\n",
       "        text-align: right;\n",
       "    }\n",
       "</style>\n",
       "<table border=\"1\" class=\"dataframe\">\n",
       "  <thead>\n",
       "    <tr style=\"text-align: right;\">\n",
       "      <th></th>\n",
       "      <th>UserID</th>\n",
       "      <th>AnsweredUserIDs</th>\n",
       "    </tr>\n",
       "  </thead>\n",
       "  <tbody>\n",
       "    <tr>\n",
       "      <td>0</td>\n",
       "      <td>1175327</td>\n",
       "      <td>[5463242]</td>\n",
       "    </tr>\n",
       "    <tr>\n",
       "      <td>1</td>\n",
       "      <td>11217383</td>\n",
       "      <td>[10885621]</td>\n",
       "    </tr>\n",
       "    <tr>\n",
       "      <td>2</td>\n",
       "      <td>12628540</td>\n",
       "      <td>[12125181, 10671926, 4851590]</td>\n",
       "    </tr>\n",
       "    <tr>\n",
       "      <td>3</td>\n",
       "      <td>12488144</td>\n",
       "      <td>[965834]</td>\n",
       "    </tr>\n",
       "    <tr>\n",
       "      <td>4</td>\n",
       "      <td>5676949</td>\n",
       "      <td>[9357872]</td>\n",
       "    </tr>\n",
       "  </tbody>\n",
       "</table>\n",
       "</div>"
      ],
      "text/plain": [
       "     UserID                AnsweredUserIDs\n",
       "0   1175327                      [5463242]\n",
       "1  11217383                     [10885621]\n",
       "2  12628540  [12125181, 10671926, 4851590]\n",
       "3  12488144                       [965834]\n",
       "4   5676949                      [9357872]"
      ]
     },
     "execution_count": 24,
     "metadata": {},
     "output_type": "execute_result"
    }
   ],
   "source": [
    "# merge questions - tags data & questions - respondents data\n",
    "\n",
    "user_answered_users_data = tags_data.merge(answers_data, on=\"QuestionID\")[[\"UserID\", \"AnsweredUserIDs\"]]\n",
    "user_answered_users_data.head()"
   ]
  },
  {
   "cell_type": "code",
   "execution_count": 25,
   "metadata": {},
   "outputs": [
    {
     "data": {
      "text/plain": [
       "0          None\n",
       "1          None\n",
       "2          None\n",
       "3          None\n",
       "4          None\n",
       "           ... \n",
       "1036951    None\n",
       "1036952    None\n",
       "1036953    None\n",
       "1036954    None\n",
       "1036955    None\n",
       "Length: 1036956, dtype: object"
      ]
     },
     "execution_count": 25,
     "metadata": {},
     "output_type": "execute_result"
    }
   ],
   "source": [
    "# get respondent frequency\n",
    "\n",
    "answered_users_count = dict()\n",
    "\n",
    "def get_answered_users_count(row):\n",
    "    global answered_users_count\n",
    "    answered_user_ids_str = row[\"AnsweredUserIDs\"]\n",
    "    answered_user_ids = ast.literal_eval(answered_user_ids_str)\n",
    "    for user_id in answered_user_ids:\n",
    "        if not user_id in answered_users_count:\n",
    "            answered_users_count[user_id] = 1\n",
    "        else:\n",
    "            answered_users_count[user_id] = answered_users_count[user_id] + 1\n",
    "\n",
    "    \n",
    "user_answered_users_data.apply(get_answered_users_count, axis=1)"
   ]
  },
  {
   "cell_type": "code",
   "execution_count": 26,
   "metadata": {},
   "outputs": [
    {
     "data": {
      "text/plain": [
       "[(1144035, 9515),\n",
       " (2901002, 4934),\n",
       " (3732271, 4258),\n",
       " (1863229, 3059),\n",
       " (3962914, 3054),\n",
       " (7964527, 2607),\n",
       " (10498828, 2558),\n",
       " (10676716, 2348),\n",
       " (1447675, 2320),\n",
       " (1491895, 2311),\n",
       " (9515207, 2109),\n",
       " (3832970, 1892),\n",
       " (67579, 1783),\n",
       " (5632629, 1774),\n",
       " (209103, 1746),\n",
       " (807126, 1701),\n",
       " (9473764, 1668),\n",
       " (10221765, 1555),\n",
       " (157247, 1490)]"
      ]
     },
     "execution_count": 26,
     "metadata": {},
     "output_type": "execute_result"
    }
   ],
   "source": [
    "# sort & show frequencies of top 20\n",
    "\n",
    "answered_users_sorted = {k: v for k, v in sorted(answered_users_count.items(), key=lambda item: item[1], reverse=True)}\n",
    "answered_users_sorted = more_itertools.take(20, answered_users_sorted.items())\n",
    "del answered_users_sorted[1]\n",
    "answered_users_sorted"
   ]
  },
  {
   "cell_type": "code",
   "execution_count": 27,
   "metadata": {},
   "outputs": [
    {
     "data": {
      "text/html": [
       "<div>\n",
       "<style scoped>\n",
       "    .dataframe tbody tr th:only-of-type {\n",
       "        vertical-align: middle;\n",
       "    }\n",
       "\n",
       "    .dataframe tbody tr th {\n",
       "        vertical-align: top;\n",
       "    }\n",
       "\n",
       "    .dataframe thead th {\n",
       "        text-align: right;\n",
       "    }\n",
       "</style>\n",
       "<table border=\"1\" class=\"dataframe\">\n",
       "  <thead>\n",
       "    <tr style=\"text-align: right;\">\n",
       "      <th></th>\n",
       "      <th>UserID</th>\n",
       "      <th>Tags</th>\n",
       "    </tr>\n",
       "  </thead>\n",
       "  <tbody>\n",
       "    <tr>\n",
       "      <td>0</td>\n",
       "      <td>2557682</td>\n",
       "      <td>['asp.net-core', 'c#']</td>\n",
       "    </tr>\n",
       "    <tr>\n",
       "      <td>1</td>\n",
       "      <td>1175327</td>\n",
       "      <td>['c#', 'php', 'angularjs', 'javascript', 'rege...</td>\n",
       "    </tr>\n",
       "    <tr>\n",
       "      <td>2</td>\n",
       "      <td>506147</td>\n",
       "      <td>['c#', 'sql-server', '.net', 'asp.net-core', '...</td>\n",
       "    </tr>\n",
       "    <tr>\n",
       "      <td>3</td>\n",
       "      <td>5676949</td>\n",
       "      <td>['javascript', 'css', 'reactjs', 'html', 'ruby...</td>\n",
       "    </tr>\n",
       "    <tr>\n",
       "      <td>4</td>\n",
       "      <td>10946509</td>\n",
       "      <td>['django', 'html', 'css']</td>\n",
       "    </tr>\n",
       "  </tbody>\n",
       "</table>\n",
       "</div>"
      ],
      "text/plain": [
       "     UserID                                               Tags\n",
       "0   2557682                             ['asp.net-core', 'c#']\n",
       "1   1175327  ['c#', 'php', 'angularjs', 'javascript', 'rege...\n",
       "2    506147  ['c#', 'sql-server', '.net', 'asp.net-core', '...\n",
       "3   5676949  ['javascript', 'css', 'reactjs', 'html', 'ruby...\n",
       "4  10946509                          ['django', 'html', 'css']"
      ]
     },
     "execution_count": 27,
     "metadata": {},
     "output_type": "execute_result"
    }
   ],
   "source": [
    "# get user - tags data\n",
    "\n",
    "users_tags_data = pd.read_csv(\"../../PycharmProjects/StackoverflowSNA/user_tags.csv\")\n",
    "users_tags_data.head()"
   ]
  },
  {
   "cell_type": "code",
   "execution_count": 28,
   "metadata": {},
   "outputs": [
    {
     "data": {
      "text/plain": [
       "False"
      ]
     },
     "execution_count": 28,
     "metadata": {},
     "output_type": "execute_result"
    }
   ],
   "source": [
    "users_tags_data.isnull().values.any()"
   ]
  },
  {
   "cell_type": "code",
   "execution_count": 29,
   "metadata": {},
   "outputs": [
    {
     "data": {
      "text/plain": [
       "(130338, 2)"
      ]
     },
     "execution_count": 29,
     "metadata": {},
     "output_type": "execute_result"
    }
   ],
   "source": [
    "users_tags_data.shape"
   ]
  },
  {
   "cell_type": "markdown",
   "metadata": {},
   "source": [
    "## Creating graphs\n",
    "\n",
    "(Data are collected from Exchange API and related csv files are created at different project)"
   ]
  },
  {
   "cell_type": "code",
   "execution_count": 30,
   "metadata": {},
   "outputs": [
    {
     "data": {
      "text/plain": [
       "0          None\n",
       "1          None\n",
       "2          None\n",
       "3          None\n",
       "4          None\n",
       "           ... \n",
       "1799650    None\n",
       "1799651    None\n",
       "1799652    None\n",
       "1799653    None\n",
       "1799654    None\n",
       "Length: 1799655, dtype: object"
      ]
     },
     "execution_count": 30,
     "metadata": {},
     "output_type": "execute_result"
    }
   ],
   "source": [
    "# creating the first graph: tags network\n",
    "# used strip_version method that defined in preprocess section\n",
    "\n",
    "def add_vals_to_graph(row):\n",
    "    tags_str = row[\"Tags\"]\n",
    "    tags = ast.literal_eval(tags_str)\n",
    "    tags = [strip_version(tag) if re.search(\"[a-zA-Z]-[0-9]\", tag) else tag for tag in tags]\n",
    "    \n",
    "    G.add_nodes_from(tags)\n",
    "    \n",
    "    for i, tag in enumerate(tags):\n",
    "        for j in range(i + 1, len(tags)):\n",
    "            if G.has_edge(tags[i], tags[j]):\n",
    "                G[tags[i]][tags[j]][\"weight\"] += 1\n",
    "            else:\n",
    "                G.add_edge(tags[i], tags[j], weight=1)\n",
    "            \n",
    "\n",
    "G = nx.Graph()\n",
    "tags_data.apply(add_vals_to_graph, axis=1)"
   ]
  },
  {
   "cell_type": "code",
   "execution_count": 31,
   "metadata": {},
   "outputs": [],
   "source": [
    "# write network to gexf file to reopen in gephi to visualize data\n",
    "\n",
    "nx.write_gexf(G, \"../Data/sna-stackoverflow/questions_tags.gexf\")"
   ]
  },
  {
   "cell_type": "code",
   "execution_count": 32,
   "metadata": {
    "scrolled": true
   },
   "outputs": [
    {
     "data": {
      "text/plain": [
       "0          None\n",
       "1          None\n",
       "2          None\n",
       "3          None\n",
       "4          None\n",
       "           ... \n",
       "1036951    None\n",
       "1036952    None\n",
       "1036953    None\n",
       "1036954    None\n",
       "1036955    None\n",
       "Length: 1036956, dtype: object"
      ]
     },
     "execution_count": 32,
     "metadata": {},
     "output_type": "execute_result"
    }
   ],
   "source": [
    "# create second graph: users help network (question owner <- answered user)\n",
    "\n",
    "def add_vals_to_di_users_graph(row):\n",
    "    user_id = row[\"UserID\"]\n",
    "    users_answered_str = row[\"AnsweredUserIDs\"]\n",
    "    users_answered = ast.literal_eval(users_answered_str)\n",
    "    \n",
    "    G_users.add_node(user_id)\n",
    "    \n",
    "    for user_id_answered in users_answered:\n",
    "        G_users.add_node(user_id_answered)\n",
    "        G_users.add_edge(user_id_answered, user_id)\n",
    "\n",
    "\n",
    "G_users = nx.DiGraph()\n",
    "user_answered_users_data.apply(add_vals_to_di_users_graph, axis=1)"
   ]
  },
  {
   "cell_type": "code",
   "execution_count": 33,
   "metadata": {},
   "outputs": [],
   "source": [
    "# write network to gexf file to reopen in gephi to visualize data\n",
    "\n",
    "nx.write_gexf(G_users, \"../Data/sna-stackoverflow/users.gexf\")"
   ]
  },
  {
   "cell_type": "code",
   "execution_count": 34,
   "metadata": {},
   "outputs": [
    {
     "data": {
      "text/plain": [
       "0         None\n",
       "1         None\n",
       "2         None\n",
       "3         None\n",
       "4         None\n",
       "          ... \n",
       "130333    None\n",
       "130334    None\n",
       "130335    None\n",
       "130336    None\n",
       "130337    None\n",
       "Length: 130338, dtype: object"
      ]
     },
     "execution_count": 34,
     "metadata": {},
     "output_type": "execute_result"
    }
   ],
   "source": [
    "# create third graph: users - tags networks\n",
    "\n",
    "def add_vals_to_users_tags_graph(row):\n",
    "    user_id = row[\"UserID\"]\n",
    "    tags_str = row[\"Tags\"]\n",
    "    tags = ast.literal_eval(tags_str)\n",
    "    \n",
    "    G_users_tags.add_node(user_id, type=\"user\")\n",
    "    \n",
    "    for tag in tags:\n",
    "        G_users_tags.add_node(tag, type=\"tag\")\n",
    "        G_users_tags.add_edge(user_id, tag)\n",
    "\n",
    "\n",
    "G_users_tags = nx.Graph()\n",
    "users_tags_data.apply(add_vals_to_users_tags_graph, axis=1)"
   ]
  },
  {
   "cell_type": "code",
   "execution_count": 35,
   "metadata": {},
   "outputs": [],
   "source": [
    "# write network to gexf file to reopen in gephi to visualize data\n",
    "\n",
    "nx.write_gexf(G_users_tags, \"../Data/sna-stackoverflow/users_tags.gexf\")"
   ]
  },
  {
   "cell_type": "markdown",
   "metadata": {},
   "source": [
    "## Analysis"
   ]
  },
  {
   "cell_type": "markdown",
   "metadata": {},
   "source": [
    "### Tags network\n",
    "\n",
    "<img src=\"SNASO/tags_to_tags.png\" style=\"height:500px\" />"
   ]
  },
  {
   "cell_type": "code",
   "execution_count": 36,
   "metadata": {},
   "outputs": [],
   "source": [
    "tags_graph = G"
   ]
  },
  {
   "cell_type": "code",
   "execution_count": 37,
   "metadata": {},
   "outputs": [
    {
     "name": "stdout",
     "output_type": "stream",
     "text": [
      "Name: \n",
      "Type: Graph\n",
      "Number of nodes: 40491\n",
      "Number of edges: 988740\n",
      "Average degree:  48.8375\n"
     ]
    }
   ],
   "source": [
    "print(nx.info(tags_graph))"
   ]
  },
  {
   "cell_type": "code",
   "execution_count": 38,
   "metadata": {
    "scrolled": true
   },
   "outputs": [
    {
     "name": "stdout",
     "output_type": "stream",
     "text": [
      "Density of graph: 0.0012061624956474781\n"
     ]
    }
   ],
   "source": [
    "print(\"Density of graph:\", nx.density(tags_graph))"
   ]
  },
  {
   "cell_type": "code",
   "execution_count": 39,
   "metadata": {},
   "outputs": [
    {
     "name": "stdout",
     "output_type": "stream",
     "text": [
      "Clustering coefficent: 0.634758010728\n"
     ]
    }
   ],
   "source": [
    "print(\"Clustering coefficent:\", nx.average_clustering(tags_graph))"
   ]
  },
  {
   "cell_type": "code",
   "execution_count": 40,
   "metadata": {},
   "outputs": [
    {
     "data": {
      "image/png": "[encoded data removed]",
      "text/plain": [
       "<Figure size 1296x432 with 1 Axes>"
      ]
     },
     "metadata": {
      "needs_background": "light"
     },
     "output_type": "display_data"
    }
   ],
   "source": [
    "# plot degree distribution\n",
    "\n",
    "hist = nx.degree_histogram(tags_graph)\n",
    "plt.figure(figsize=(18, 6))\n",
    "plt.plot(hist, marker='.')\n",
    "plt.xlim((0, 100))\n",
    "plt.show()"
   ]
  },
  {
   "cell_type": "code",
   "execution_count": 41,
   "metadata": {},
   "outputs": [],
   "source": [
    "degrees = tags_graph.degree() \n",
    "deg_values = [val[1] for val in degrees]\n",
    "degrees_h = Counter(deg_values)\n",
    "degrees_dict = collections.OrderedDict(sorted(degrees_h.items()))\n",
    "degrees_hist = list(degrees_dict.values())\n",
    "degrees_values = list(degrees_dict.keys())"
   ]
  },
  {
   "cell_type": "code",
   "execution_count": 42,
   "metadata": {
    "scrolled": false
   },
   "outputs": [
    {
     "name": "stderr",
     "output_type": "stream",
     "text": [
      "C:\\ProgramData\\Anaconda3\\lib\\site-packages\\ipykernel_launcher.py:4: DeprecationWarning: scipy.sqrt is deprecated and will be removed in SciPy 2.0.0, use numpy.lib.scimath.sqrt instead\n",
      "  after removing the cwd from sys.path.\n",
      "C:\\ProgramData\\Anaconda3\\lib\\site-packages\\ipykernel_launcher.py:16: UserWarning: Attempted to set non-positive left xlim on a log-scaled axis.\n",
      "Invalid limit will be ignored.\n",
      "  app.launch_new_instance()\n"
     ]
    },
    {
     "data": {
      "image/png": "[encoded data removed]",
      "text/plain": [
       "<Figure size 864x576 with 1 Axes>"
      ]
     },
     "metadata": {
      "needs_background": "light"
     },
     "output_type": "display_data"
    }
   ],
   "source": [
    "# plot degree distribution in log-log\n",
    "\n",
    "mu = 2.17\n",
    "sigma = sp.sqrt(mu)\n",
    "mu_plus_sigma = mu + sigma\n",
    "x = range(0, 10)\n",
    "prob = stats.poisson.pmf(x, mu) * 4426\n",
    "\n",
    "plt.figure(figsize=(12, 8)) \n",
    "plt.grid(True)\n",
    "plt.loglog(degrees_values, degrees_hist, 'ro-')\n",
    "plt.plot(x, prob, \"o-\", color=\"black\")\n",
    "plt.legend(['Degree','Poission'])\n",
    "plt.xlabel('Degree')\n",
    "plt.ylabel('Number of  nodes')\n",
    "plt.xlim([0, 2 * 10 ** 2])\n",
    "plt.show()"
   ]
  },
  {
   "cell_type": "code",
   "execution_count": 43,
   "metadata": {
    "scrolled": false
   },
   "outputs": [
    {
     "name": "stderr",
     "output_type": "stream",
     "text": [
      "C:\\ProgramData\\Anaconda3\\lib\\site-packages\\ipykernel_launcher.py:10: UserWarning: Attempted to set non-positive left xlim on a log-scaled axis.\n",
      "Invalid limit will be ignored.\n",
      "  # Remove the CWD from sys.path while we load stuff.\n"
     ]
    },
    {
     "data": {
      "image/png": "[encoded data removed]",
      "text/plain": [
       "<Figure size 864x576 with 1 Axes>"
      ]
     },
     "metadata": {
      "needs_background": "light"
     },
     "output_type": "display_data"
    }
   ],
   "source": [
    "degrees =dict(tags_graph.degree())\n",
    "values = sorted(set(degrees.values()))\n",
    "hist = [list(degrees.values()).count(x) for x in values]\n",
    "\n",
    "plt.figure(figsize=(12, 8)) \n",
    "plt.loglog(values, hist, 'r.') \n",
    "plt.xlabel('k')\n",
    "plt.ylabel('p(k)')\n",
    "plt.title('Degree Distribution')\n",
    "plt.xlim([0, 2*100**1])\n",
    "plt.show()"
   ]
  },
  {
   "cell_type": "code",
   "execution_count": 44,
   "metadata": {},
   "outputs": [
    {
     "data": {
      "text/plain": [
       "['react-native-image', 'react-native', 'node.js', 'nats-streaming-server']"
      ]
     },
     "execution_count": 44,
     "metadata": {},
     "output_type": "execute_result"
    }
   ],
   "source": [
    "# some shortest paths between irrelevant tags\n",
    "\n",
    "nx.shortest_path(tags_graph, source=\"react-native-image\", target=\"nats-streaming-server\")"
   ]
  },
  {
   "cell_type": "code",
   "execution_count": 45,
   "metadata": {
    "scrolled": true
   },
   "outputs": [
    {
     "data": {
      "text/plain": [
       "['udp', 'javascript', 'jwt']"
      ]
     },
     "execution_count": 45,
     "metadata": {},
     "output_type": "execute_result"
    }
   ],
   "source": [
    "nx.shortest_path(tags_graph, source=\"udp\", target=\"jwt\")"
   ]
  },
  {
   "cell_type": "code",
   "execution_count": 46,
   "metadata": {},
   "outputs": [
    {
     "data": {
      "text/plain": [
       "['mongoose', 'python', 'linear-algebra']"
      ]
     },
     "execution_count": 46,
     "metadata": {},
     "output_type": "execute_result"
    }
   ],
   "source": [
    "nx.shortest_path(tags_graph, source=\"mongoose\", target=\"linear-algebra\")"
   ]
  },
  {
   "cell_type": "code",
   "execution_count": 47,
   "metadata": {},
   "outputs": [
    {
     "data": {
      "image/png": "[encoded data removed]",
      "text/plain": [
       "<Figure size 648x432 with 1 Axes>"
      ]
     },
     "metadata": {},
     "output_type": "display_data"
    }
   ],
   "source": [
    "# simple sub graph consists paths that pass through mongoose and linear-algebra tags\n",
    "\n",
    "paths = nx.all_shortest_paths(tags_graph, source=\"mongoose\", target=\"linear-algebra\")\n",
    "paths = [i for i in paths]\n",
    "\n",
    "h = nx.subgraph(tags_graph, sum([i for i in paths], []))   \n",
    "\n",
    "pos = nx.spring_layout(h)\n",
    "plt.figure(figsize=(9, 6))\n",
    "nx.draw(h, pos=pos, node_color='b', edge_color='r', node_size=60, with_labels=True)\n",
    "plt.show()"
   ]
  },
  {
   "cell_type": "code",
   "execution_count": 48,
   "metadata": {},
   "outputs": [],
   "source": [
    "# generate & plot tags word cloud\n",
    "\n",
    "word_cloud = WordCloud(width=2000, height=2000, background_color=\"black\", colormap=\"Set2\", \n",
    "                                collocations=False).generate_from_frequencies(dict(nx.degree(tags_graph)))"
   ]
  },
  {
   "cell_type": "code",
   "execution_count": 49,
   "metadata": {},
   "outputs": [
    {
     "data": {
      "image/png": "[encoded data removed]",
      "text/plain": [
       "<Figure size 576x576 with 1 Axes>"
      ]
     },
     "metadata": {
      "needs_background": "light"
     },
     "output_type": "display_data"
    }
   ],
   "source": [
    "plt.figure(figsize=(8, 8))\n",
    "plt.imshow(word_cloud)\n",
    "plt.axis('off')\n",
    "plt.show()"
   ]
  },
  {
   "cell_type": "code",
   "execution_count": 50,
   "metadata": {},
   "outputs": [
    {
     "data": {
      "text/plain": [
       "False"
      ]
     },
     "execution_count": 50,
     "metadata": {},
     "output_type": "execute_result"
    }
   ],
   "source": [
    "nx.is_connected(tags_graph)"
   ]
  },
  {
   "cell_type": "code",
   "execution_count": 51,
   "metadata": {},
   "outputs": [
    {
     "data": {
      "text/plain": [
       "200"
      ]
     },
     "execution_count": 51,
     "metadata": {},
     "output_type": "execute_result"
    }
   ],
   "source": [
    "# graph is not connected, get components\n",
    "\n",
    "components = nx.connected_components(tags_graph)\n",
    "components = list(components)\n",
    "len(components)"
   ]
  },
  {
   "cell_type": "code",
   "execution_count": 52,
   "metadata": {},
   "outputs": [
    {
     "data": {
      "text/plain": [
       "[{'map-basic'},\n",
       " {'cachegrind'},\n",
       " {'veeva', 'vql'},\n",
       " {'livecode'},\n",
       " {'manatee.trello'},\n",
       " {'lansa'},\n",
       " {'deepstream.io'},\n",
       " {'watson-studio-desktop'},\n",
       " {'torquebox'},\n",
       " {'paymill'},\n",
       " {'daemontools'},\n",
       " {'shareandcharge'},\n",
       " {'cobbler'},\n",
       " {'kronos-workforce-central', 'kronos-workforce-ready-suite'},\n",
       " {'ccc'},\n",
       " {'linux-smack'},\n",
       " {'chef-habitat'},\n",
       " {'josso'},\n",
       " {'vulas'},\n",
       " {'projekktor'},\n",
       " {'neutralinojs'},\n",
       " {'shex'},\n",
       " {'rightfax'},\n",
       " {'vlfeat'},\n",
       " {'amplience-dynamic-content'},\n",
       " {'madge'},\n",
       " {'pa11y'},\n",
       " {'eazfuscator'},\n",
       " {'pyiron'},\n",
       " {'kabanero'},\n",
       " {'traccar'},\n",
       " {'objectgears'},\n",
       " {'origen-sdk'},\n",
       " {'maxwell'},\n",
       " {'grunt-contrib-connect'},\n",
       " {'pymesh'},\n",
       " {'ruby-install'},\n",
       " {'newlisp'},\n",
       " {'macaulay2'},\n",
       " {'de4dot'},\n",
       " {'mkusertrackingmode'},\n",
       " {'flyte'},\n",
       " {'fogbugz', 'fogbugz-api'},\n",
       " {'espocrm'},\n",
       " {'kademi'},\n",
       " {'enterprisedt'},\n",
       " {'content-tools'},\n",
       " {'xmodem'},\n",
       " {'bosun'},\n",
       " {'statistica'},\n",
       " {'sigmaplot'},\n",
       " {'aws-lake-formation'},\n",
       " {'c-minus-minus'},\n",
       " {'jqchart'},\n",
       " {'appsody'},\n",
       " {'wake'},\n",
       " {'inform7'},\n",
       " {'aurelia2'},\n",
       " {'easylogging++'},\n",
       " {'yandexcloud'},\n",
       " {'structr'},\n",
       " {'cockpit'},\n",
       " {'psake'},\n",
       " {'minc'},\n",
       " {'linkchecker'},\n",
       " {'irony'},\n",
       " {'backbone.geppetto'},\n",
       " {'floris'},\n",
       " {'opentap-proj'},\n",
       " {'pdf2htmlex'},\n",
       " {'social-tables'},\n",
       " {'grads'},\n",
       " {'slingr'},\n",
       " {'rose-compiler-framework'},\n",
       " {'pilosa'},\n",
       " {'jsduck'},\n",
       " {'jbox'},\n",
       " {'eclipse-scout'},\n",
       " {'liquid-xml'},\n",
       " {'dockpanel-suite'},\n",
       " {'spagobi'},\n",
       " {'google-chrome-arc'},\n",
       " {'drmaa'},\n",
       " {'websitepanel'},\n",
       " {'achartengine'},\n",
       " {'heritrix'},\n",
       " {'coconut'},\n",
       " {'gchart'},\n",
       " {'apple-reporter'},\n",
       " {'iolanguage'},\n",
       " {'disk.frame'},\n",
       " {'socialengine'},\n",
       " {'chuck'},\n",
       " {'boost-tuples'},\n",
       " {'clish'},\n",
       " {'kdbg'},\n",
       " {'sess.run'},\n",
       " {'cocos2d-python'},\n",
       " {'quartz-composer'},\n",
       " {'firefox-reader-view'},\n",
       " {'oaf'},\n",
       " {'cornerstone-lms'},\n",
       " {'webfocus'},\n",
       " {'remark42'},\n",
       " {'smallbasic'},\n",
       " {'umlet'},\n",
       " {'golfscript'},\n",
       " {'.net-traceprocessing'},\n",
       " {'purify', 'rational-purify'},\n",
       " {'oclint'},\n",
       " {'printthis'},\n",
       " {'visit-llnl'},\n",
       " {'calliope'},\n",
       " {'antora'},\n",
       " {'ordercloud'},\n",
       " {'sesam'},\n",
       " {'rubyxl'},\n",
       " {'kakoune'},\n",
       " {'styletron'},\n",
       " {'appannie'},\n",
       " {'streambase'},\n",
       " {'pijul'},\n",
       " {'emacs-jedi'},\n",
       " {'sdhc'},\n",
       " {'google-apps-activity'},\n",
       " {'sharp-repository'},\n",
       " {'gramex'},\n",
       " {'lytro'},\n",
       " {'jsmodeler'},\n",
       " {'mifos'},\n",
       " {'sharppdf'},\n",
       " {'rinsim'},\n",
       " {'geneos'},\n",
       " {'opencms'},\n",
       " {'sony-audio-control-api'},\n",
       " {'empirical-lang'},\n",
       " {'tibero'},\n",
       " {'shared-nothing'},\n",
       " {'adsutil.vbs'},\n",
       " {'arras'},\n",
       " {'craftyjs'},\n",
       " {'openpai'},\n",
       " {'ibm-streams', 'infosphere-spl'},\n",
       " {'gf'},\n",
       " {'jade-platform'},\n",
       " {'sahi'},\n",
       " {'archicad'},\n",
       " {'rosie-pattern-language'},\n",
       " {'ilias'},\n",
       " {'sproutcore', 'sproutcore-controllers', 'sproutcore-views'},\n",
       " {'atk4'},\n",
       " {'factor-lang'},\n",
       " {'uc4'},\n",
       " {'ideamart'},\n",
       " {'internal-link'},\n",
       " {'healthvault'},\n",
       " {'aimms'},\n",
       " {'tradier'},\n",
       " {'vora'},\n",
       " {'laravel-code-generator'},\n",
       " {'dspack'},\n",
       " {'zend-framework-routing'},\n",
       " {'cm-synergy'},\n",
       " {'snap-lang'},\n",
       " {'azure-devops-migration-tools', 'vsts-sync-migrator'},\n",
       " {'adql', 'simbad'},\n",
       " {'conceptnet'},\n",
       " {'cordova-facebook'},\n",
       " {'viewvc'},\n",
       " {'restler'},\n",
       " {'ext-direct'},\n",
       " {'syslinux'},\n",
       " {'relaxng', 'relaxng-compact'},\n",
       " {'twine-game-engine'},\n",
       " {'apache-syncope'},\n",
       " {'javonet'},\n",
       " {'pike'},\n",
       " {'komodoedit'},\n",
       " {'kognitio'},\n",
       " {'bilby'},\n",
       " {'javarosa'},\n",
       " {'small-business-server'},\n",
       " {'publish-actions'},\n",
       " {'mremoteng'},\n",
       " {'gnulib'},\n",
       " {'structured-programming'},\n",
       " {'koloda'},\n",
       " {'google-blogger-api'},\n",
       " {'ganymede'},\n",
       " {'vimium'},\n",
       " {'frege'},\n",
       " {'mini-xml'},\n",
       " {'logicblox', 'logiql'},\n",
       " {'commanded'},\n",
       " {'rcloud'},\n",
       " {'jsdoc2md'},\n",
       " {'exi'},\n",
       " {'zend-studio'},\n",
       " {'wasp'}]"
      ]
     },
     "execution_count": 52,
     "metadata": {},
     "output_type": "execute_result"
    }
   ],
   "source": [
    "# components that are not connected to main part\n",
    "\n",
    "components[1:]"
   ]
  },
  {
   "cell_type": "code",
   "execution_count": 53,
   "metadata": {},
   "outputs": [],
   "source": [
    "# get largest connected component\n",
    "\n",
    "largest_connected_component = tags_graph.subgraph(components[0])"
   ]
  },
  {
   "cell_type": "code",
   "execution_count": 54,
   "metadata": {},
   "outputs": [
    {
     "name": "stdout",
     "output_type": "stream",
     "text": [
      "Name: \n",
      "Type: Graph\n",
      "Number of nodes: 208\n",
      "Number of edges: 17123\n",
      "Average degree: 164.6442\n"
     ]
    }
   ],
   "source": [
    "# Filter the graph for next operations\n",
    "\n",
    "tags_node_degs = nx.degree(tags_graph)\n",
    "filtered_tags_graph = nx.subgraph(tags_graph, [x for x in tags_graph.nodes() if tags_node_degs[x] > 1000])\n",
    "print(nx.info(filtered_tags_graph))"
   ]
  },
  {
   "cell_type": "code",
   "execution_count": 55,
   "metadata": {},
   "outputs": [
    {
     "name": "stdout",
     "output_type": "stream",
     "text": [
      "diameter: 2\n"
     ]
    }
   ],
   "source": [
    "print(\"diameter:\", nx.diameter(filtered_tags_graph))"
   ]
  },
  {
   "cell_type": "code",
   "execution_count": 56,
   "metadata": {},
   "outputs": [
    {
     "name": "stdout",
     "output_type": "stream",
     "text": [
      "shortest path length: 1.206893348197696\n"
     ]
    }
   ],
   "source": [
    "print(\"shortest path length:\", nx.average_shortest_path_length(filtered_tags_graph))"
   ]
  },
  {
   "cell_type": "code",
   "execution_count": 57,
   "metadata": {
    "scrolled": true
   },
   "outputs": [
    {
     "name": "stdout",
     "output_type": "stream",
     "text": [
      "node connectivity 99\n"
     ]
    }
   ],
   "source": [
    "print(\"node connectivity\", nx.node_connectivity(filtered_tags_graph))"
   ]
  },
  {
   "cell_type": "code",
   "execution_count": 58,
   "metadata": {},
   "outputs": [],
   "source": [
    "# degree centrality\n",
    "\n",
    "nodes_deg_cen = nx.degree_centrality(tags_graph)\n",
    "nodes_deg_cen_sorted = dict(sorted(nodes_deg_cen.items(), key=lambda item: item[1], reverse=True))"
   ]
  },
  {
   "cell_type": "code",
   "execution_count": 59,
   "metadata": {},
   "outputs": [
    {
     "data": {
      "text/html": [
       "<div>\n",
       "<style scoped>\n",
       "    .dataframe tbody tr th:only-of-type {\n",
       "        vertical-align: middle;\n",
       "    }\n",
       "\n",
       "    .dataframe tbody tr th {\n",
       "        vertical-align: top;\n",
       "    }\n",
       "\n",
       "    .dataframe thead th {\n",
       "        text-align: right;\n",
       "    }\n",
       "</style>\n",
       "<table border=\"1\" class=\"dataframe\">\n",
       "  <thead>\n",
       "    <tr style=\"text-align: right;\">\n",
       "      <th></th>\n",
       "      <th>name</th>\n",
       "      <th>centrality</th>\n",
       "    </tr>\n",
       "  </thead>\n",
       "  <tbody>\n",
       "    <tr>\n",
       "      <td>0</td>\n",
       "      <td>python</td>\n",
       "      <td>0.307755</td>\n",
       "    </tr>\n",
       "    <tr>\n",
       "      <td>1</td>\n",
       "      <td>java</td>\n",
       "      <td>0.283947</td>\n",
       "    </tr>\n",
       "    <tr>\n",
       "      <td>2</td>\n",
       "      <td>javascript</td>\n",
       "      <td>0.263571</td>\n",
       "    </tr>\n",
       "    <tr>\n",
       "      <td>3</td>\n",
       "      <td>c#</td>\n",
       "      <td>0.237540</td>\n",
       "    </tr>\n",
       "    <tr>\n",
       "      <td>4</td>\n",
       "      <td>android</td>\n",
       "      <td>0.181971</td>\n",
       "    </tr>\n",
       "    <tr>\n",
       "      <td>5</td>\n",
       "      <td>c++</td>\n",
       "      <td>0.157471</td>\n",
       "    </tr>\n",
       "    <tr>\n",
       "      <td>6</td>\n",
       "      <td>php</td>\n",
       "      <td>0.151420</td>\n",
       "    </tr>\n",
       "    <tr>\n",
       "      <td>7</td>\n",
       "      <td>node.js</td>\n",
       "      <td>0.138627</td>\n",
       "    </tr>\n",
       "    <tr>\n",
       "      <td>8</td>\n",
       "      <td>html</td>\n",
       "      <td>0.133366</td>\n",
       "    </tr>\n",
       "    <tr>\n",
       "      <td>9</td>\n",
       "      <td>ios</td>\n",
       "      <td>0.122524</td>\n",
       "    </tr>\n",
       "  </tbody>\n",
       "</table>\n",
       "</div>"
      ],
      "text/plain": [
       "         name  centrality\n",
       "0      python    0.307755\n",
       "1        java    0.283947\n",
       "2  javascript    0.263571\n",
       "3          c#    0.237540\n",
       "4     android    0.181971\n",
       "5         c++    0.157471\n",
       "6         php    0.151420\n",
       "7     node.js    0.138627\n",
       "8        html    0.133366\n",
       "9         ios    0.122524"
      ]
     },
     "execution_count": 59,
     "metadata": {},
     "output_type": "execute_result"
    }
   ],
   "source": [
    "deg_cent_df = pd.DataFrame()    \n",
    "deg_cent_df['name'] = [val[0] for val in list(nodes_deg_cen_sorted.items())[:10]]\n",
    "deg_cent_df['centrality'] = [val[1] for val in list(nodes_deg_cen_sorted.items())[:10]]\n",
    "deg_cent_df"
   ]
  },
  {
   "cell_type": "code",
   "execution_count": 60,
   "metadata": {},
   "outputs": [
    {
     "data": {
      "image/png": "[encoded data removed]",
      "text/plain": [
       "<Figure size 720x720 with 1 Axes>"
      ]
     },
     "metadata": {
      "needs_background": "light"
     },
     "output_type": "display_data"
    }
   ],
   "source": [
    "plt.figure(figsize=(10, 10))\n",
    "_ = sns.barplot(x=\"centrality\", y=\"name\", data=deg_cent_df, orient='h')\n",
    "plt.show()"
   ]
  },
  {
   "cell_type": "code",
   "execution_count": 61,
   "metadata": {},
   "outputs": [],
   "source": [
    "# betweennes centrality\n",
    "\n",
    "nodes_bet_cen = nx.betweenness_centrality(filtered_tags_graph)\n",
    "nodes_bet_cen_sorted = dict(sorted(nodes_bet_cen.items(), key=lambda item: item[1], reverse=True))"
   ]
  },
  {
   "cell_type": "code",
   "execution_count": 62,
   "metadata": {},
   "outputs": [
    {
     "data": {
      "text/html": [
       "<div>\n",
       "<style scoped>\n",
       "    .dataframe tbody tr th:only-of-type {\n",
       "        vertical-align: middle;\n",
       "    }\n",
       "\n",
       "    .dataframe tbody tr th {\n",
       "        vertical-align: top;\n",
       "    }\n",
       "\n",
       "    .dataframe thead th {\n",
       "        text-align: right;\n",
       "    }\n",
       "</style>\n",
       "<table border=\"1\" class=\"dataframe\">\n",
       "  <thead>\n",
       "    <tr style=\"text-align: right;\">\n",
       "      <th></th>\n",
       "      <th>name</th>\n",
       "      <th>centrality</th>\n",
       "    </tr>\n",
       "  </thead>\n",
       "  <tbody>\n",
       "    <tr>\n",
       "      <td>0</td>\n",
       "      <td>python</td>\n",
       "      <td>0.001904</td>\n",
       "    </tr>\n",
       "    <tr>\n",
       "      <td>1</td>\n",
       "      <td>java</td>\n",
       "      <td>0.001895</td>\n",
       "    </tr>\n",
       "    <tr>\n",
       "      <td>2</td>\n",
       "      <td>json</td>\n",
       "      <td>0.001889</td>\n",
       "    </tr>\n",
       "    <tr>\n",
       "      <td>3</td>\n",
       "      <td>file</td>\n",
       "      <td>0.001888</td>\n",
       "    </tr>\n",
       "    <tr>\n",
       "      <td>4</td>\n",
       "      <td>c#</td>\n",
       "      <td>0.001874</td>\n",
       "    </tr>\n",
       "    <tr>\n",
       "      <td>5</td>\n",
       "      <td>javascript</td>\n",
       "      <td>0.001842</td>\n",
       "    </tr>\n",
       "    <tr>\n",
       "      <td>6</td>\n",
       "      <td>windows</td>\n",
       "      <td>0.001808</td>\n",
       "    </tr>\n",
       "    <tr>\n",
       "      <td>7</td>\n",
       "      <td>android</td>\n",
       "      <td>0.001797</td>\n",
       "    </tr>\n",
       "    <tr>\n",
       "      <td>8</td>\n",
       "      <td>performance</td>\n",
       "      <td>0.001786</td>\n",
       "    </tr>\n",
       "    <tr>\n",
       "      <td>9</td>\n",
       "      <td>node.js</td>\n",
       "      <td>0.001751</td>\n",
       "    </tr>\n",
       "  </tbody>\n",
       "</table>\n",
       "</div>"
      ],
      "text/plain": [
       "          name  centrality\n",
       "0       python    0.001904\n",
       "1         java    0.001895\n",
       "2         json    0.001889\n",
       "3         file    0.001888\n",
       "4           c#    0.001874\n",
       "5   javascript    0.001842\n",
       "6      windows    0.001808\n",
       "7      android    0.001797\n",
       "8  performance    0.001786\n",
       "9      node.js    0.001751"
      ]
     },
     "execution_count": 62,
     "metadata": {},
     "output_type": "execute_result"
    }
   ],
   "source": [
    "bet_cent_df = pd.DataFrame()    \n",
    "bet_cent_df['name'] = [val[0] for val in list(nodes_bet_cen_sorted.items())[:10]]\n",
    "bet_cent_df['centrality'] = [val[1] for val in list(nodes_bet_cen_sorted.items())[:10]]\n",
    "bet_cent_df"
   ]
  },
  {
   "cell_type": "code",
   "execution_count": 63,
   "metadata": {},
   "outputs": [
    {
     "data": {
      "image/png": "[encoded data removed]",
      "text/plain": [
       "<Figure size 720x720 with 1 Axes>"
      ]
     },
     "metadata": {
      "needs_background": "light"
     },
     "output_type": "display_data"
    }
   ],
   "source": [
    "plt.figure(figsize=(10, 10))\n",
    "_ = sns.barplot(x=\"centrality\", y=\"name\", data=bet_cent_df, orient='h')\n",
    "plt.show()"
   ]
  },
  {
   "cell_type": "code",
   "execution_count": 64,
   "metadata": {},
   "outputs": [],
   "source": [
    "# closeness centrality\n",
    "\n",
    "nodes_closeness_cen = nx.closeness_centrality(filtered_tags_graph)\n",
    "nodes_closeness_sorted = dict(sorted(nodes_closeness_cen.items(), key=lambda item: item[1], reverse=True))"
   ]
  },
  {
   "cell_type": "code",
   "execution_count": 65,
   "metadata": {},
   "outputs": [
    {
     "data": {
      "text/html": [
       "<div>\n",
       "<style scoped>\n",
       "    .dataframe tbody tr th:only-of-type {\n",
       "        vertical-align: middle;\n",
       "    }\n",
       "\n",
       "    .dataframe tbody tr th {\n",
       "        vertical-align: top;\n",
       "    }\n",
       "\n",
       "    .dataframe thead th {\n",
       "        text-align: right;\n",
       "    }\n",
       "</style>\n",
       "<table border=\"1\" class=\"dataframe\">\n",
       "  <thead>\n",
       "    <tr style=\"text-align: right;\">\n",
       "      <th></th>\n",
       "      <th>name</th>\n",
       "      <th>centrality</th>\n",
       "    </tr>\n",
       "  </thead>\n",
       "  <tbody>\n",
       "    <tr>\n",
       "      <td>0</td>\n",
       "      <td>python</td>\n",
       "      <td>0.995192</td>\n",
       "    </tr>\n",
       "    <tr>\n",
       "      <td>1</td>\n",
       "      <td>json</td>\n",
       "      <td>0.995192</td>\n",
       "    </tr>\n",
       "    <tr>\n",
       "      <td>2</td>\n",
       "      <td>java</td>\n",
       "      <td>0.995192</td>\n",
       "    </tr>\n",
       "    <tr>\n",
       "      <td>3</td>\n",
       "      <td>c#</td>\n",
       "      <td>0.990431</td>\n",
       "    </tr>\n",
       "    <tr>\n",
       "      <td>4</td>\n",
       "      <td>file</td>\n",
       "      <td>0.990431</td>\n",
       "    </tr>\n",
       "    <tr>\n",
       "      <td>5</td>\n",
       "      <td>javascript</td>\n",
       "      <td>0.990431</td>\n",
       "    </tr>\n",
       "    <tr>\n",
       "      <td>6</td>\n",
       "      <td>android</td>\n",
       "      <td>0.981043</td>\n",
       "    </tr>\n",
       "    <tr>\n",
       "      <td>7</td>\n",
       "      <td>html</td>\n",
       "      <td>0.976415</td>\n",
       "    </tr>\n",
       "    <tr>\n",
       "      <td>8</td>\n",
       "      <td>node.js</td>\n",
       "      <td>0.976415</td>\n",
       "    </tr>\n",
       "    <tr>\n",
       "      <td>9</td>\n",
       "      <td>api</td>\n",
       "      <td>0.976415</td>\n",
       "    </tr>\n",
       "  </tbody>\n",
       "</table>\n",
       "</div>"
      ],
      "text/plain": [
       "         name  centrality\n",
       "0      python    0.995192\n",
       "1        json    0.995192\n",
       "2        java    0.995192\n",
       "3          c#    0.990431\n",
       "4        file    0.990431\n",
       "5  javascript    0.990431\n",
       "6     android    0.981043\n",
       "7        html    0.976415\n",
       "8     node.js    0.976415\n",
       "9         api    0.976415"
      ]
     },
     "execution_count": 65,
     "metadata": {},
     "output_type": "execute_result"
    }
   ],
   "source": [
    "cls_cent_df = pd.DataFrame()    \n",
    "cls_cent_df['name'] = [val[0] for val in list(nodes_closeness_sorted.items())[:10]]\n",
    "cls_cent_df['centrality'] = [val[1] for val in list(nodes_closeness_sorted.items())[:10]]\n",
    "cls_cent_df"
   ]
  },
  {
   "cell_type": "code",
   "execution_count": 66,
   "metadata": {
    "scrolled": false
   },
   "outputs": [
    {
     "data": {
      "image/png": "[encoded data removed]",
      "text/plain": [
       "<Figure size 720x720 with 1 Axes>"
      ]
     },
     "metadata": {
      "needs_background": "light"
     },
     "output_type": "display_data"
    }
   ],
   "source": [
    "plt.figure(figsize=(10, 10))\n",
    "_ = sns.barplot(x=\"centrality\", y=\"name\", data=cls_cent_df, orient='h')\n",
    "plt.show()"
   ]
  },
  {
   "cell_type": "code",
   "execution_count": 67,
   "metadata": {},
   "outputs": [
    {
     "data": {
      "text/plain": [
       "['pandas', 'django', 'numpy', 'dataframe', 'tensorflow']"
      ]
     },
     "execution_count": 67,
     "metadata": {},
     "output_type": "execute_result"
    }
   ],
   "source": [
    "# get similar tags by using weights\n",
    "\n",
    "def get_similar_tags(tag, n=5):\n",
    "    global tags_graph\n",
    "    if not tags_graph.has_node(tag):\n",
    "        return []\n",
    "    sorted_neighbors = sorted(tags_graph[tag].items(), key=lambda edge: edge[1][\"weight\"], reverse=True)\n",
    "    return [tag[0] for tag in sorted_neighbors[1:n+1]]\n",
    "    \n",
    "get_similar_tags(\"python\")"
   ]
  },
  {
   "cell_type": "code",
   "execution_count": 68,
   "metadata": {},
   "outputs": [
    {
     "data": {
      "text/plain": [
       "['ios', 'rx-cocoa', 'mvvm', 'reactive-programming', 'observable']"
      ]
     },
     "execution_count": 68,
     "metadata": {},
     "output_type": "execute_result"
    }
   ],
   "source": [
    "get_similar_tags(\"rx-swift\")"
   ]
  },
  {
   "cell_type": "markdown",
   "metadata": {},
   "source": [
    "### Users help network (asking - answering) in degree\n",
    "\n",
    "<img src=\"SNASO/users_to_users_in_degree.png\" style=\"height:500px\" />"
   ]
  },
  {
   "cell_type": "markdown",
   "metadata": {},
   "source": [
    "### Users help network (asking - answering) out degree\n",
    "\n",
    "<img src=\"SNASO/users_to_users_out_degree.png\" style=\"height:500px\" />"
   ]
  },
  {
   "cell_type": "code",
   "execution_count": 69,
   "metadata": {},
   "outputs": [
    {
     "name": "stdout",
     "output_type": "stream",
     "text": [
      "Name: \n",
      "Type: DiGraph\n",
      "Number of nodes: 647714\n",
      "Number of edges: 1495623\n",
      "Average in degree:   2.3091\n",
      "Average out degree:   2.3091\n"
     ]
    }
   ],
   "source": [
    "print(nx.info(G_users))"
   ]
  },
  {
   "cell_type": "code",
   "execution_count": 70,
   "metadata": {},
   "outputs": [
    {
     "name": "stdout",
     "output_type": "stream",
     "text": [
      "Density of graph: 3.5649729368885505e-06\n"
     ]
    }
   ],
   "source": [
    "print(\"Density of graph:\", nx.density(G_users))"
   ]
  },
  {
   "cell_type": "code",
   "execution_count": 71,
   "metadata": {},
   "outputs": [
    {
     "name": "stdout",
     "output_type": "stream",
     "text": [
      "Clustering coefficent: 0.0035274747462812517\n"
     ]
    }
   ],
   "source": [
    "print(\"Clustering coefficent:\", nx.average_clustering(G_users))"
   ]
  },
  {
   "cell_type": "code",
   "execution_count": 72,
   "metadata": {},
   "outputs": [
    {
     "data": {
      "text/plain": [
       "[(8291684, 355), (1422604, 295), (3044737, 250), (577805, 245), (1103606, 237)]"
      ]
     },
     "execution_count": 72,
     "metadata": {},
     "output_type": "execute_result"
    }
   ],
   "source": [
    "# Most questioners\n",
    "\n",
    "sorted(G_users.in_degree, key=lambda x: x[1], reverse=True)[:5]"
   ]
  },
  {
   "cell_type": "code",
   "execution_count": 73,
   "metadata": {},
   "outputs": [
    {
     "data": {
      "text/plain": [
       "[(1144035, 7957),\n",
       " (0, 6335),\n",
       " (2901002, 3073),\n",
       " (1863229, 2921),\n",
       " (3732271, 2830),\n",
       " (10498828, 2385)]"
      ]
     },
     "execution_count": 73,
     "metadata": {},
     "output_type": "execute_result"
    }
   ],
   "source": [
    "# Most answerers\n",
    "\n",
    "sorted(G_users.out_degree, key=lambda x: x[1], reverse=True)[:6]"
   ]
  },
  {
   "cell_type": "code",
   "execution_count": 74,
   "metadata": {},
   "outputs": [
    {
     "data": {
      "image/png": "[encoded data removed]",
      "text/plain": [
       "<Figure size 1296x432 with 1 Axes>"
      ]
     },
     "metadata": {
      "needs_background": "light"
     },
     "output_type": "display_data"
    }
   ],
   "source": [
    "hist = nx.degree_histogram(G_users)\n",
    "plt.figure(figsize=(18, 6))\n",
    "plt.plot(hist, marker='.')\n",
    "plt.xlim((0, 100))\n",
    "plt.show()"
   ]
  },
  {
   "cell_type": "code",
   "execution_count": 75,
   "metadata": {},
   "outputs": [],
   "source": [
    "degrees = G_users.degree() \n",
    "deg_values = [val[1] for val in degrees]\n",
    "degrees_h = Counter(deg_values)\n",
    "degrees_dict = collections.OrderedDict(sorted(degrees_h.items()))\n",
    "degrees_hist = list(degrees_dict.values())\n",
    "degrees_values = list(degrees_dict.keys())"
   ]
  },
  {
   "cell_type": "code",
   "execution_count": 76,
   "metadata": {},
   "outputs": [
    {
     "name": "stderr",
     "output_type": "stream",
     "text": [
      "C:\\ProgramData\\Anaconda3\\lib\\site-packages\\ipykernel_launcher.py:4: DeprecationWarning: scipy.sqrt is deprecated and will be removed in SciPy 2.0.0, use numpy.lib.scimath.sqrt instead\n",
      "  after removing the cwd from sys.path.\n",
      "C:\\ProgramData\\Anaconda3\\lib\\site-packages\\ipykernel_launcher.py:16: UserWarning: Attempted to set non-positive left xlim on a log-scaled axis.\n",
      "Invalid limit will be ignored.\n",
      "  app.launch_new_instance()\n"
     ]
    },
    {
     "data": {
      "image/png": "[encoded data removed]",
      "text/plain": [
       "<Figure size 864x576 with 1 Axes>"
      ]
     },
     "metadata": {
      "needs_background": "light"
     },
     "output_type": "display_data"
    }
   ],
   "source": [
    "# plot degree distribution in log-log\n",
    "\n",
    "mu = 2.17\n",
    "sigma = sp.sqrt(mu)\n",
    "mu_plus_sigma = mu + sigma\n",
    "x = range(0, 10)\n",
    "prob = stats.poisson.pmf(x, mu) * 4426\n",
    "\n",
    "plt.figure(figsize=(12, 8)) \n",
    "plt.grid(True)\n",
    "plt.loglog(degrees_values, degrees_hist, 'ro-')\n",
    "plt.plot(x, prob, \"o-\", color=\"black\")\n",
    "plt.legend(['Degree','Poission'])\n",
    "plt.xlabel('Degree')\n",
    "plt.ylabel('Number of  nodes')\n",
    "plt.xlim([0, 2 * 10 ** 2])\n",
    "plt.show()"
   ]
  },
  {
   "cell_type": "code",
   "execution_count": 77,
   "metadata": {},
   "outputs": [
    {
     "name": "stderr",
     "output_type": "stream",
     "text": [
      "C:\\ProgramData\\Anaconda3\\lib\\site-packages\\ipykernel_launcher.py:10: UserWarning: Attempted to set non-positive left xlim on a log-scaled axis.\n",
      "Invalid limit will be ignored.\n",
      "  # Remove the CWD from sys.path while we load stuff.\n"
     ]
    },
    {
     "data": {
      "image/png": "[encoded data removed]",
      "text/plain": [
       "<Figure size 864x576 with 1 Axes>"
      ]
     },
     "metadata": {
      "needs_background": "light"
     },
     "output_type": "display_data"
    }
   ],
   "source": [
    "degrees =dict(G_users.degree())\n",
    "values = sorted(set(degrees.values()))\n",
    "hist = [list(degrees.values()).count(x) for x in values]\n",
    "\n",
    "plt.figure(figsize=(12, 8)) \n",
    "plt.loglog(values, hist, 'r.') \n",
    "plt.xlabel('k')\n",
    "plt.ylabel('p(k)')\n",
    "plt.title('Degree Distribution')\n",
    "plt.xlim([0, 2*100**1])\n",
    "plt.show()"
   ]
  },
  {
   "cell_type": "code",
   "execution_count": 78,
   "metadata": {
    "scrolled": true
   },
   "outputs": [
    {
     "name": "stdout",
     "output_type": "stream",
     "text": [
      "Name: \n",
      "Type: DiGraph\n",
      "Number of nodes: 1079\n",
      "Number of edges: 3511\n",
      "Average in degree:   3.2539\n",
      "Average out degree:   3.2539\n"
     ]
    }
   ],
   "source": [
    "# Filter the graph for next operations\n",
    "\n",
    "users_node_degs = nx.degree(G_users)\n",
    "filtered_users_graph = nx.subgraph(G_users, [x for x in G_users.nodes() if users_node_degs[x] > 150])\n",
    "print(nx.info(filtered_users_graph))"
   ]
  },
  {
   "cell_type": "code",
   "execution_count": 79,
   "metadata": {},
   "outputs": [
    {
     "data": {
      "text/plain": [
       "118"
      ]
     },
     "execution_count": 79,
     "metadata": {},
     "output_type": "execute_result"
    }
   ],
   "source": [
    "# for next operations, change graph to undirected and get largest component\n",
    "\n",
    "filtered_users_graph_und = filtered_users_graph.to_undirected()\n",
    "users_graph_components = nx.connected_components(filtered_users_graph_und)\n",
    "users_graph_components = list(users_graph_components)\n",
    "len(users_graph_components)"
   ]
  },
  {
   "cell_type": "code",
   "execution_count": 80,
   "metadata": {},
   "outputs": [],
   "source": [
    "G_users_und = G_users.to_undirected()\n",
    "users_graph_largest_component = G_users_und.subgraph(users_graph_components[0])"
   ]
  },
  {
   "cell_type": "code",
   "execution_count": 81,
   "metadata": {},
   "outputs": [
    {
     "name": "stdout",
     "output_type": "stream",
     "text": [
      "diameter: 9\n"
     ]
    }
   ],
   "source": [
    "print(\"diameter:\", nx.diameter(users_graph_largest_component))"
   ]
  },
  {
   "cell_type": "code",
   "execution_count": 82,
   "metadata": {},
   "outputs": [
    {
     "name": "stdout",
     "output_type": "stream",
     "text": [
      "shortest path length: 3.8085544120923935\n"
     ]
    }
   ],
   "source": [
    "print(\"shortest path length:\", nx.average_shortest_path_length(users_graph_largest_component))"
   ]
  },
  {
   "cell_type": "code",
   "execution_count": 83,
   "metadata": {},
   "outputs": [
    {
     "name": "stdout",
     "output_type": "stream",
     "text": [
      "node connectivity: 1\n"
     ]
    }
   ],
   "source": [
    "print(\"node connectivity:\", nx.node_connectivity(users_graph_largest_component))"
   ]
  },
  {
   "cell_type": "code",
   "execution_count": null,
   "metadata": {},
   "outputs": [],
   "source": [
    "print(\"self loops:\", G_users.number_of_selfloops())"
   ]
  },
  {
   "cell_type": "code",
   "execution_count": 85,
   "metadata": {},
   "outputs": [],
   "source": [
    "# degree centrality\n",
    "\n",
    "nodes_deg_cen = nx.degree_centrality(G_users)\n",
    "nodes_deg_cen_sorted = dict(sorted(nodes_deg_cen.items(), key=lambda item: item[1], reverse=True))"
   ]
  },
  {
   "cell_type": "code",
   "execution_count": 86,
   "metadata": {},
   "outputs": [
    {
     "data": {
      "text/html": [
       "<div>\n",
       "<style scoped>\n",
       "    .dataframe tbody tr th:only-of-type {\n",
       "        vertical-align: middle;\n",
       "    }\n",
       "\n",
       "    .dataframe tbody tr th {\n",
       "        vertical-align: top;\n",
       "    }\n",
       "\n",
       "    .dataframe thead th {\n",
       "        text-align: right;\n",
       "    }\n",
       "</style>\n",
       "<table border=\"1\" class=\"dataframe\">\n",
       "  <thead>\n",
       "    <tr style=\"text-align: right;\">\n",
       "      <th></th>\n",
       "      <th>name</th>\n",
       "      <th>centrality</th>\n",
       "    </tr>\n",
       "  </thead>\n",
       "  <tbody>\n",
       "    <tr>\n",
       "      <td>0</td>\n",
       "      <td>1144035</td>\n",
       "      <td>0.012285</td>\n",
       "    </tr>\n",
       "    <tr>\n",
       "      <td>2</td>\n",
       "      <td>2901002</td>\n",
       "      <td>0.004768</td>\n",
       "    </tr>\n",
       "    <tr>\n",
       "      <td>3</td>\n",
       "      <td>1863229</td>\n",
       "      <td>0.004522</td>\n",
       "    </tr>\n",
       "    <tr>\n",
       "      <td>4</td>\n",
       "      <td>3732271</td>\n",
       "      <td>0.004369</td>\n",
       "    </tr>\n",
       "    <tr>\n",
       "      <td>5</td>\n",
       "      <td>10498828</td>\n",
       "      <td>0.003682</td>\n",
       "    </tr>\n",
       "    <tr>\n",
       "      <td>6</td>\n",
       "      <td>1491895</td>\n",
       "      <td>0.003491</td>\n",
       "    </tr>\n",
       "    <tr>\n",
       "      <td>7</td>\n",
       "      <td>10676716</td>\n",
       "      <td>0.003421</td>\n",
       "    </tr>\n",
       "    <tr>\n",
       "      <td>8</td>\n",
       "      <td>3962914</td>\n",
       "      <td>0.003247</td>\n",
       "    </tr>\n",
       "    <tr>\n",
       "      <td>9</td>\n",
       "      <td>1447675</td>\n",
       "      <td>0.003185</td>\n",
       "    </tr>\n",
       "    <tr>\n",
       "      <td>10</td>\n",
       "      <td>7964527</td>\n",
       "      <td>0.003068</td>\n",
       "    </tr>\n",
       "  </tbody>\n",
       "</table>\n",
       "</div>"
      ],
      "text/plain": [
       "        name  centrality\n",
       "0    1144035    0.012285\n",
       "2    2901002    0.004768\n",
       "3    1863229    0.004522\n",
       "4    3732271    0.004369\n",
       "5   10498828    0.003682\n",
       "6    1491895    0.003491\n",
       "7   10676716    0.003421\n",
       "8    3962914    0.003247\n",
       "9    1447675    0.003185\n",
       "10   7964527    0.003068"
      ]
     },
     "execution_count": 86,
     "metadata": {},
     "output_type": "execute_result"
    }
   ],
   "source": [
    "deg_cent_df = pd.DataFrame()    \n",
    "deg_cent_df['name'] = [val[0] for val in list(nodes_deg_cen_sorted.items())[:11]]\n",
    "deg_cent_df['centrality'] = [val[1] for val in list(nodes_deg_cen_sorted.items())[:11]]\n",
    "deg_cent_df = deg_cent_df.drop(deg_cent_df.index[1])\n",
    "deg_cent_df"
   ]
  },
  {
   "cell_type": "code",
   "execution_count": 87,
   "metadata": {},
   "outputs": [
    {
     "data": {
      "image/png": "[encoded data removed]",
      "text/plain": [
       "<Figure size 720x720 with 1 Axes>"
      ]
     },
     "metadata": {
      "needs_background": "light"
     },
     "output_type": "display_data"
    }
   ],
   "source": [
    "plt.figure(figsize=(10, 10))\n",
    "_ = sns.barplot(x=\"centrality\", y=\"name\", data=deg_cent_df, orient='h')\n",
    "plt.show()"
   ]
  },
  {
   "cell_type": "code",
   "execution_count": 88,
   "metadata": {},
   "outputs": [],
   "source": [
    "def get_so_user(user_id):\n",
    "    base_url = \"https://api.stackexchange.com/2.2\"\n",
    "    get_user_end = base_url + \"/users/{}?order=desc&sort=reputation&site=stackoverflow\".format(user_id)\n",
    "    try:\n",
    "        response = requests.get(get_user_end)\n",
    "    except requests.exceptions.ConnectionError as e:\n",
    "        return 0, e\n",
    "    return response.json()[\"items\"][0]"
   ]
  },
  {
   "cell_type": "code",
   "execution_count": 89,
   "metadata": {},
   "outputs": [],
   "source": [
    "user_info = get_so_user(1144035)"
   ]
  },
  {
   "cell_type": "code",
   "execution_count": 90,
   "metadata": {},
   "outputs": [
    {
     "name": "stdout",
     "output_type": "stream",
     "text": [
      "1144035 -> Gordon Linoff reputation: 1054862\n"
     ]
    }
   ],
   "source": [
    "print(\"1144035 ->\", user_info[\"display_name\"], \"reputation:\", user_info[\"reputation\"])"
   ]
  },
  {
   "cell_type": "markdown",
   "metadata": {},
   "source": [
    "### Users - tags network out degree\n",
    "\n",
    "<img src=\"SNASO/users_to_tags_in_degree.png\" style=\"height:500px\" />"
   ]
  },
  {
   "cell_type": "markdown",
   "metadata": {},
   "source": [
    "### Users - tags network in degree\n",
    "\n",
    "<img src=\"SNASO/users_to_tags_out_degree.png\" style=\"height:500px\" />"
   ]
  },
  {
   "cell_type": "code",
   "execution_count": 91,
   "metadata": {},
   "outputs": [
    {
     "name": "stdout",
     "output_type": "stream",
     "text": [
      "Name: \n",
      "Type: Graph\n",
      "Number of nodes: 116038\n",
      "Number of edges: 357862\n",
      "Average degree:   6.1680\n"
     ]
    }
   ],
   "source": [
    "print(nx.info(G_users_tags))"
   ]
  },
  {
   "cell_type": "code",
   "execution_count": 92,
   "metadata": {},
   "outputs": [
    {
     "name": "stdout",
     "output_type": "stream",
     "text": [
      "Density of graph: 5.315557905213305e-05\n"
     ]
    }
   ],
   "source": [
    "print(\"Density of graph:\", nx.density(G_users_tags))"
   ]
  },
  {
   "cell_type": "code",
   "execution_count": 93,
   "metadata": {},
   "outputs": [
    {
     "data": {
      "image/png": "[encoded data removed]",
      "text/plain": [
       "<Figure size 1296x432 with 1 Axes>"
      ]
     },
     "metadata": {
      "needs_background": "light"
     },
     "output_type": "display_data"
    }
   ],
   "source": [
    "# plot degree distribution\n",
    "\n",
    "hist = nx.degree_histogram(G_users_tags)\n",
    "plt.figure(figsize=(18, 6))\n",
    "plt.plot(hist, marker='.')\n",
    "plt.xlim((0, 20))\n",
    "plt.show()"
   ]
  },
  {
   "cell_type": "code",
   "execution_count": 94,
   "metadata": {},
   "outputs": [
    {
     "name": "stderr",
     "output_type": "stream",
     "text": [
      "C:\\ProgramData\\Anaconda3\\lib\\site-packages\\ipykernel_launcher.py:11: DeprecationWarning: scipy.sqrt is deprecated and will be removed in SciPy 2.0.0, use numpy.lib.scimath.sqrt instead\n",
      "  # This is added back by InteractiveShellApp.init_path()\n",
      "C:\\ProgramData\\Anaconda3\\lib\\site-packages\\ipykernel_launcher.py:23: UserWarning: Attempted to set non-positive left xlim on a log-scaled axis.\n",
      "Invalid limit will be ignored.\n"
     ]
    },
    {
     "data": {
      "image/png": "[encoded data removed]",
      "text/plain": [
       "<Figure size 864x576 with 1 Axes>"
      ]
     },
     "metadata": {
      "needs_background": "light"
     },
     "output_type": "display_data"
    }
   ],
   "source": [
    "degrees = G_users_tags.degree() \n",
    "deg_values = [val[1] for val in degrees]\n",
    "degrees_h = Counter(deg_values)\n",
    "degrees_dict = collections.OrderedDict(sorted(degrees_h.items()))\n",
    "degrees_hist = list(degrees_dict.values())\n",
    "degrees_values = list(degrees_dict.keys())\n",
    "\n",
    "# plot degree distribution in log-log\n",
    "\n",
    "mu = 2.17\n",
    "sigma = sp.sqrt(mu)\n",
    "mu_plus_sigma = mu + sigma\n",
    "x = range(0, 10)\n",
    "prob = stats.poisson.pmf(x, mu) * 4426\n",
    "\n",
    "plt.figure(figsize=(12, 8)) \n",
    "plt.grid(True)\n",
    "plt.loglog(degrees_values, degrees_hist, 'ro-')\n",
    "plt.plot(x, prob, \"o-\", color=\"black\")\n",
    "plt.legend(['Degree','Poission'])\n",
    "plt.xlabel('Degree')\n",
    "plt.ylabel('Number of  nodes')\n",
    "plt.xlim([0, 2 * 10 ** 2])\n",
    "plt.show()"
   ]
  },
  {
   "cell_type": "code",
   "execution_count": 95,
   "metadata": {},
   "outputs": [
    {
     "name": "stdout",
     "output_type": "stream",
     "text": [
      "Name: \n",
      "Type: DiGraph\n",
      "Number of nodes: 1079\n",
      "Number of edges: 3511\n",
      "Average in degree:   3.2539\n",
      "Average out degree:   3.2539\n"
     ]
    }
   ],
   "source": [
    "# Filter the graph for next operations\n",
    "\n",
    "user_tags_node_degs = nx.degree(G_users_tags)\n",
    "filtered_user_tags_graph = nx.subgraph(G_users_tags, [x for x in G_users_tags.nodes() if user_tags_node_degs[x] > 150])\n",
    "print(nx.info(filtered_users_graph))"
   ]
  },
  {
   "cell_type": "code",
   "execution_count": null,
   "metadata": {},
   "outputs": [],
   "source": [
    "# in degree centrality (tags)\n",
    "\n",
    "nodes_deg_cen_in = nx.in_degree_centrality(G_users_tags)\n",
    "nodes_deg_cen_in_sorted = dict(sorted(nodes_deg_cen_in.items(), key=lambda item: item[1], reverse=True))\n",
    "nodes_deg_cen_in_sorted"
   ]
  },
  {
   "cell_type": "code",
   "execution_count": null,
   "metadata": {},
   "outputs": [],
   "source": [
    "deg_cent_df = pd.DataFrame()    \n",
    "deg_cent_df['name'] = [val[0] for val in list(nodes_deg_cen_in_sorted.items())[:11]]\n",
    "deg_cent_df['centrality'] = [val[1] for val in list(nodes_deg_cen_in_sorted.items())[:11]]\n",
    "deg_cent_df = deg_cent_df.drop(deg_cent_df.index[1])\n",
    "deg_cent_df"
   ]
  },
  {
   "cell_type": "code",
   "execution_count": null,
   "metadata": {},
   "outputs": [],
   "source": [
    "plt.figure(figsize=(10, 10))\n",
    "_ = sns.barplot(x=\"centrality\", y=\"name\", data=deg_cent_df, orient='h')\n",
    "plt.show()"
   ]
  },
  {
   "cell_type": "code",
   "execution_count": 97,
   "metadata": {},
   "outputs": [
    {
     "data": {
      "text/plain": [
       "[2557682,\n",
       " 1175327,\n",
       " 506147,\n",
       " 5676949,\n",
       " 10946509,\n",
       " 2233668,\n",
       " 11941541,\n",
       " 10537235,\n",
       " 11217383,\n",
       " 336920,\n",
       " 10808802,\n",
       " 3107858,\n",
       " 4718734,\n",
       " 5404647,\n",
       " 11208147,\n",
       " 4480248,\n",
       " 240363,\n",
       " 303914,\n",
       " 12274,\n",
       " 7984318,\n",
       " 26685,\n",
       " 2753629,\n",
       " 12136050,\n",
       " 2916405,\n",
       " 8061973,\n",
       " 651174,\n",
       " 6661426,\n",
       " 1208144,\n",
       " 1241715,\n",
       " 1895264,\n",
       " 8339821,\n",
       " 2534758,\n",
       " 10798194,\n",
       " 1593077,\n",
       " 5769463,\n",
       " 1123717,\n",
       " 12063339,\n",
       " 4762063,\n",
       " 365462,\n",
       " 5268667,\n",
       " 1318266,\n",
       " 4386626,\n",
       " 10749925,\n",
       " 3067524,\n",
       " 12521170,\n",
       " 12191192,\n",
       " 505854,\n",
       " 1011722,\n",
       " 2561452,\n",
       " 4266314,\n",
       " 12232041,\n",
       " 709537,\n",
       " 6500085,\n",
       " 9115678,\n",
       " 9578604,\n",
       " 1340075,\n",
       " 11554051,\n",
       " 1202808,\n",
       " 7500995,\n",
       " 9959152,\n",
       " 1922589,\n",
       " 206466,\n",
       " 2825403,\n",
       " 11482834,\n",
       " 5752410,\n",
       " 4187091,\n",
       " 3750856,\n",
       " 4979468,\n",
       " 6723250,\n",
       " 10530848,\n",
       " 470184,\n",
       " 684229,\n",
       " 2847689,\n",
       " 157525,\n",
       " 11622712,\n",
       " 11156090,\n",
       " 11456863,\n",
       " 2446374,\n",
       " 12628001,\n",
       " 1897423,\n",
       " 2777850,\n",
       " 5077196,\n",
       " 5014221,\n",
       " 10244126,\n",
       " 6676139,\n",
       " 9525876,\n",
       " 9881679,\n",
       " 1252748,\n",
       " 6388753,\n",
       " 1281501,\n",
       " 2102748,\n",
       " 1136506,\n",
       " 1304247,\n",
       " 4955663,\n",
       " 4396701,\n",
       " 2091534,\n",
       " 344286,\n",
       " 6039995,\n",
       " 7551257,\n",
       " 7355533,\n",
       " 8525056,\n",
       " 630169,\n",
       " 12097388,\n",
       " 3882878,\n",
       " 6275269,\n",
       " 11714340,\n",
       " 847881,\n",
       " 8888320,\n",
       " 1391595,\n",
       " 12196730,\n",
       " 7788402,\n",
       " 12496104,\n",
       " 10625391,\n",
       " 3394510,\n",
       " 4983450,\n",
       " 168738,\n",
       " 5829191,\n",
       " 1580092,\n",
       " 12002411,\n",
       " 11073581,\n",
       " 158770,\n",
       " 1917081,\n",
       " 1050619,\n",
       " 3265472,\n",
       " 722955,\n",
       " 7583019,\n",
       " 1727392,\n",
       " 6263953,\n",
       " 9689945,\n",
       " 5476615,\n",
       " 242885,\n",
       " 12440031,\n",
       " 8840359,\n",
       " 9081267,\n",
       " 7668613,\n",
       " 9080916,\n",
       " 190803,\n",
       " 11778140,\n",
       " 7655081,\n",
       " 1052117,\n",
       " 18995,\n",
       " 6435921,\n",
       " 10847510,\n",
       " 925478,\n",
       " 12627794,\n",
       " 12597041,\n",
       " 2181835,\n",
       " 11357641,\n",
       " 2766558,\n",
       " 8031815,\n",
       " 1716733,\n",
       " 1752614,\n",
       " 3676469,\n",
       " 54323,\n",
       " 7715250,\n",
       " 1362184,\n",
       " 10344592,\n",
       " 9693461,\n",
       " 2301570,\n",
       " 8548277,\n",
       " 1605834,\n",
       " 3682563,\n",
       " 2282011,\n",
       " 778533,\n",
       " 1810962,\n",
       " 2335172,\n",
       " 4058910,\n",
       " 1769217,\n",
       " 9740621,\n",
       " 9041811,\n",
       " 3776749,\n",
       " 11770758,\n",
       " 299462,\n",
       " 2287576,\n",
       " 971888,\n",
       " 4730700,\n",
       " 951321,\n",
       " 7603484,\n",
       " 12020486,\n",
       " 1451408,\n",
       " 5563099,\n",
       " 1608383,\n",
       " 12323248,\n",
       " 204143,\n",
       " 409958,\n",
       " 7294871,\n",
       " 7884076,\n",
       " 850380,\n",
       " 12196281,\n",
       " 12279585,\n",
       " 5235665,\n",
       " 812939,\n",
       " 353046,\n",
       " 5360898,\n",
       " 1115116,\n",
       " 5685762,\n",
       " 12536243,\n",
       " 1513187,\n",
       " 775954,\n",
       " 881712,\n",
       " 6629020,\n",
       " 12627581,\n",
       " 1219322,\n",
       " 5124717,\n",
       " 5709203,\n",
       " 3299229,\n",
       " 1068388,\n",
       " 527533,\n",
       " 584765,\n",
       " 941397,\n",
       " 4070454,\n",
       " 9224880,\n",
       " 3841581,\n",
       " 6202210,\n",
       " 1773616,\n",
       " 9181509,\n",
       " 5501675,\n",
       " 3279603,\n",
       " 2543240,\n",
       " 428928,\n",
       " 2966583,\n",
       " 12559918,\n",
       " 505152,\n",
       " 3227319,\n",
       " 3083195,\n",
       " 3668129,\n",
       " 11317176,\n",
       " 7366463,\n",
       " 10360604,\n",
       " 4245513,\n",
       " 1209279,\n",
       " 287948,\n",
       " 27305,\n",
       " 4560509,\n",
       " 1379706,\n",
       " 2493556,\n",
       " 9601989,\n",
       " 10456876,\n",
       " 4756173,\n",
       " 4994594,\n",
       " 4623259,\n",
       " 4153603,\n",
       " 340688,\n",
       " 213633,\n",
       " 1218167,\n",
       " 1582481,\n",
       " 3007613,\n",
       " 3833012,\n",
       " 9301591,\n",
       " 1022260,\n",
       " 10021083,\n",
       " 372296,\n",
       " 5594363,\n",
       " 12054290,\n",
       " 2227549,\n",
       " 3044737,\n",
       " 6872717,\n",
       " 1907888,\n",
       " 2716479,\n",
       " 7999665,\n",
       " 9691242,\n",
       " 9819146,\n",
       " 3023588,\n",
       " 2246488,\n",
       " 7114664,\n",
       " 2911408,\n",
       " 9268003,\n",
       " 8431259,\n",
       " 899271,\n",
       " 2130104,\n",
       " 8430277,\n",
       " 8923742,\n",
       " 8551424,\n",
       " 10696487,\n",
       " 1753177,\n",
       " 1417451,\n",
       " 4480164,\n",
       " 1337007,\n",
       " 3947314,\n",
       " 495776,\n",
       " 3390154,\n",
       " 9316077,\n",
       " 204658,\n",
       " 1609428,\n",
       " 2584924,\n",
       " 964335,\n",
       " 11335032,\n",
       " 10587869,\n",
       " 7276121,\n",
       " 766570,\n",
       " 5300021,\n",
       " 10932853,\n",
       " 788488,\n",
       " 7183221,\n",
       " 3743602,\n",
       " 9046275,\n",
       " 12549160,\n",
       " 8283737,\n",
       " 8740322,\n",
       " 143960,\n",
       " 1303170,\n",
       " 1142881,\n",
       " 1797006,\n",
       " 9937026,\n",
       " 2402616,\n",
       " 700579,\n",
       " 12160926,\n",
       " 12143300,\n",
       " 1076451,\n",
       " 1515864,\n",
       " 7777348,\n",
       " 424706,\n",
       " 3720887,\n",
       " 5254109,\n",
       " 4522072,\n",
       " 1746118,\n",
       " 268588,\n",
       " 461631,\n",
       " 798502,\n",
       " 11677431,\n",
       " 10018602,\n",
       " 5703997,\n",
       " 7598461,\n",
       " 5976543,\n",
       " 1691849,\n",
       " 12543764,\n",
       " 1315857,\n",
       " 11968226,\n",
       " 742402,\n",
       " 10290548,\n",
       " 921618,\n",
       " 12385772,\n",
       " 12020047,\n",
       " 1967036,\n",
       " 156458,\n",
       " 8645002,\n",
       " 3331344,\n",
       " 7831222,\n",
       " 5167801,\n",
       " 7583514,\n",
       " 1510391,\n",
       " 12292259,\n",
       " 644337,\n",
       " 10051099,\n",
       " 10776251,\n",
       " 338784,\n",
       " 6836791,\n",
       " 7891480,\n",
       " 825920,\n",
       " 834045,\n",
       " 6031898,\n",
       " 2104933,\n",
       " 9837259,\n",
       " 941831,\n",
       " 2133814,\n",
       " 8741615,\n",
       " 11294806,\n",
       " 9403877,\n",
       " 11501178,\n",
       " 7579156,\n",
       " 6997665,\n",
       " 727366,\n",
       " 9810130,\n",
       " 10573183,\n",
       " 625521,\n",
       " 1063364,\n",
       " 55775,\n",
       " 11966052,\n",
       " 7475225,\n",
       " 8192960,\n",
       " 2099704,\n",
       " 6367971,\n",
       " 1405500,\n",
       " 9749276,\n",
       " 2853450,\n",
       " 1246758,\n",
       " 656677,\n",
       " 1028039,\n",
       " 1573765,\n",
       " 539684,\n",
       " 1461499,\n",
       " 898057,\n",
       " 1369992,\n",
       " 5612825,\n",
       " 5313355,\n",
       " 4206520,\n",
       " 6089149,\n",
       " 10818506,\n",
       " 3387094,\n",
       " 1059511,\n",
       " 9820072,\n",
       " 9375102,\n",
       " 2921817,\n",
       " 3357958,\n",
       " 7736555,\n",
       " 5598574,\n",
       " 11782204,\n",
       " 1206421,\n",
       " 7545818,\n",
       " 11805611,\n",
       " 10429169,\n",
       " 1358817,\n",
       " 377303,\n",
       " 200338,\n",
       " 8881495,\n",
       " 11145820,\n",
       " 8435023,\n",
       " 2771738,\n",
       " 10671037,\n",
       " 11362449,\n",
       " 9485117,\n",
       " 2429989,\n",
       " 2053389,\n",
       " 1558312,\n",
       " 5249619,\n",
       " 282614,\n",
       " 88172,\n",
       " 5938872,\n",
       " 9651079,\n",
       " 7932866,\n",
       " 6260800,\n",
       " 6379348,\n",
       " 4333347,\n",
       " 2411841,\n",
       " 6820198,\n",
       " 8043583,\n",
       " 410999,\n",
       " 10187097,\n",
       " 7939268,\n",
       " 577805,\n",
       " 4808079,\n",
       " 1132822,\n",
       " 1736601,\n",
       " 4392952,\n",
       " 8919002,\n",
       " 1017466,\n",
       " 7257971,\n",
       " 7014995,\n",
       " 11372842,\n",
       " 1995161,\n",
       " 6373378,\n",
       " 1296473,\n",
       " 6748145,\n",
       " 5884324,\n",
       " 2486661,\n",
       " 10596579,\n",
       " 5756583,\n",
       " 7195998,\n",
       " 5933822,\n",
       " 9642,\n",
       " 4480139,\n",
       " 4278282,\n",
       " 10968845,\n",
       " 6942847,\n",
       " 6683331,\n",
       " 10991714,\n",
       " 10321664,\n",
       " 11669520,\n",
       " 3283389,\n",
       " 1069195,\n",
       " 130964,\n",
       " 1308171,\n",
       " 11143113,\n",
       " 637988,\n",
       " 5942100,\n",
       " 1563130,\n",
       " 9392842,\n",
       " 3367818,\n",
       " 8678706,\n",
       " 11766622,\n",
       " 11435788,\n",
       " 3311276,\n",
       " 7648881,\n",
       " 169447,\n",
       " 1958726,\n",
       " 12246246,\n",
       " 11454967,\n",
       " 5082913,\n",
       " 1893325,\n",
       " 4332851,\n",
       " 7687038,\n",
       " 2698249,\n",
       " 2393559,\n",
       " 278910,\n",
       " 1502289,\n",
       " 7834847,\n",
       " 7997299,\n",
       " 11108102,\n",
       " 10196014,\n",
       " 8608146,\n",
       " 9105207,\n",
       " 4036130,\n",
       " 1071967,\n",
       " 980019,\n",
       " 4536580,\n",
       " 1212164,\n",
       " 756339,\n",
       " 1487313,\n",
       " 12447406,\n",
       " 10909844,\n",
       " 5527646,\n",
       " 5853892,\n",
       " 7463034,\n",
       " 6613358,\n",
       " 126164,\n",
       " 1759215,\n",
       " 2712016,\n",
       " 10067210,\n",
       " 8876307,\n",
       " 10257611,\n",
       " 2824791,\n",
       " 10950788,\n",
       " 5616565,\n",
       " 1829881,\n",
       " 1481544,\n",
       " 1660655,\n",
       " 2961823,\n",
       " 9690594,\n",
       " 2949114,\n",
       " 5077188,\n",
       " 5925291,\n",
       " 2030864,\n",
       " 9903235,\n",
       " 1369291,\n",
       " 5647368,\n",
       " 1165590,\n",
       " 1400943,\n",
       " 913098,\n",
       " 11492024,\n",
       " 1936629,\n",
       " 12509659,\n",
       " 1410223,\n",
       " 6095662,\n",
       " 2723463,\n",
       " 3973138,\n",
       " 3662307,\n",
       " 12205986,\n",
       " 8901845,\n",
       " 261010,\n",
       " 1686468,\n",
       " 5111411,\n",
       " 9284097,\n",
       " 11260762,\n",
       " 1671558,\n",
       " 5564578,\n",
       " 5069802,\n",
       " 1678967,\n",
       " 9976298,\n",
       " 6819862,\n",
       " 11455772,\n",
       " 9334823,\n",
       " 2871563,\n",
       " 9198260,\n",
       " 10128619,\n",
       " 8461786,\n",
       " 5354341,\n",
       " 674548,\n",
       " 8412027,\n",
       " 7104821,\n",
       " 497073,\n",
       " 2685402,\n",
       " 6229792,\n",
       " 1959050,\n",
       " 940158,\n",
       " 333757,\n",
       " 5832272,\n",
       " 1376533,\n",
       " 9289272,\n",
       " 11452439,\n",
       " 9219650,\n",
       " 3462201,\n",
       " 7512296,\n",
       " 463888,\n",
       " 6388582,\n",
       " 7043908,\n",
       " 10424862,\n",
       " 3877781,\n",
       " 437242,\n",
       " 10512612,\n",
       " 797368,\n",
       " 8463412,\n",
       " 44605,\n",
       " 6216235,\n",
       " 5290853,\n",
       " 4821779,\n",
       " 2242131,\n",
       " 10886542,\n",
       " 4948889,\n",
       " 426332,\n",
       " 11387549,\n",
       " 1655774,\n",
       " 1657926,\n",
       " 2826880,\n",
       " 3639661,\n",
       " 9142781,\n",
       " 984621,\n",
       " 1307987,\n",
       " 11932071,\n",
       " 4671027,\n",
       " 9181725,\n",
       " 8056504,\n",
       " 10559222,\n",
       " 11229775,\n",
       " 1668069,\n",
       " 474702,\n",
       " 2467772,\n",
       " 128647,\n",
       " 6084948,\n",
       " 9455734,\n",
       " 5441932,\n",
       " 939089,\n",
       " 283296,\n",
       " 1804173,\n",
       " 5900271,\n",
       " 8635165,\n",
       " 5561910,\n",
       " 2425753,\n",
       " 7481773,\n",
       " 4839531,\n",
       " 961609,\n",
       " 4924460,\n",
       " 5359846,\n",
       " 5317706,\n",
       " 1835854,\n",
       " 7674430,\n",
       " 1394710,\n",
       " 6017833,\n",
       " 6845464,\n",
       " 9808392,\n",
       " 5590930,\n",
       " 1077309,\n",
       " 4626254,\n",
       " 4323982,\n",
       " 3094805,\n",
       " 2515214,\n",
       " 6608667,\n",
       " 3515184,\n",
       " 2083766,\n",
       " 12553303,\n",
       " 1681681,\n",
       " 2381154,\n",
       " 10732434,\n",
       " 7005567,\n",
       " 1296783,\n",
       " 2031150,\n",
       " 12124297,\n",
       " 12625713,\n",
       " 10733631,\n",
       " 7359357,\n",
       " 2699762,\n",
       " 8145400,\n",
       " 7694176,\n",
       " 638366,\n",
       " 2436856,\n",
       " 880292,\n",
       " 5637397,\n",
       " 4057038,\n",
       " 1053143,\n",
       " 7985818,\n",
       " 10350687,\n",
       " 10183880,\n",
       " 8555571,\n",
       " 8214369,\n",
       " 639035,\n",
       " 10673107,\n",
       " 11033447,\n",
       " 7653476,\n",
       " 262910,\n",
       " 179446,\n",
       " 1783632,\n",
       " 8608249,\n",
       " 7855660,\n",
       " 12359431,\n",
       " 10880347,\n",
       " 1943849,\n",
       " 9439331,\n",
       " 3659387,\n",
       " 3001150,\n",
       " 7147231,\n",
       " 603242,\n",
       " 1663462,\n",
       " 5893995,\n",
       " 2005616,\n",
       " 10517550,\n",
       " 11680526,\n",
       " 12272905,\n",
       " 3374615,\n",
       " 10924836,\n",
       " 985585,\n",
       " 3862830,\n",
       " 11953387,\n",
       " 1735834,\n",
       " 458742,\n",
       " 9150652,\n",
       " 3848411,\n",
       " 836018,\n",
       " 4470135,\n",
       " 827927,\n",
       " 12625679,\n",
       " 11123031,\n",
       " 1710180,\n",
       " 3952994,\n",
       " 6867048,\n",
       " 1729795,\n",
       " 9380480,\n",
       " 1739821,\n",
       " 272023,\n",
       " 1397891,\n",
       " 1496518,\n",
       " 4494505,\n",
       " 1754161,\n",
       " 11222495,\n",
       " 927493,\n",
       " 2750966,\n",
       " 871404,\n",
       " 2054629,\n",
       " 11238057,\n",
       " 7266996,\n",
       " 7441235,\n",
       " 330457,\n",
       " 9774624,\n",
       " 1331306,\n",
       " 6251391,\n",
       " 12246377,\n",
       " 1423428,\n",
       " 1619294,\n",
       " 4652706,\n",
       " 1867328,\n",
       " 4399382,\n",
       " 12438293,\n",
       " 9476917,\n",
       " 2956754,\n",
       " 5396562,\n",
       " 309334,\n",
       " 10955404,\n",
       " 5260226,\n",
       " 11974227,\n",
       " 11739577,\n",
       " 4816178,\n",
       " 5029020,\n",
       " 12563070,\n",
       " 11033212,\n",
       " 2474226,\n",
       " 2333663,\n",
       " 4961141,\n",
       " 9845366,\n",
       " 9424000,\n",
       " 2936106,\n",
       " 1738094,\n",
       " 9100781,\n",
       " 7767267,\n",
       " 9148880,\n",
       " 12564985,\n",
       " 10552885,\n",
       " 12267205,\n",
       " 3576334,\n",
       " 3544438,\n",
       " 5065439,\n",
       " 1706408,\n",
       " 11196706,\n",
       " 5928272,\n",
       " 9978078,\n",
       " 3669981,\n",
       " 1973207,\n",
       " 6813433,\n",
       " 3509179,\n",
       " 2226263,\n",
       " 10801836,\n",
       " 10598535,\n",
       " 1199740,\n",
       " 11943314,\n",
       " 3475758,\n",
       " 1471417,\n",
       " 10522579,\n",
       " 1281264,\n",
       " 1041641,\n",
       " 6734314,\n",
       " 5505742,\n",
       " 5305401,\n",
       " 8815160,\n",
       " 3487940,\n",
       " 433570,\n",
       " 5375214,\n",
       " 3169556,\n",
       " 12450543,\n",
       " 5528870,\n",
       " 12607129,\n",
       " 5092005,\n",
       " 479415,\n",
       " 1969866,\n",
       " 1600166,\n",
       " 5692398,\n",
       " 3256597,\n",
       " 3581288,\n",
       " 3165164,\n",
       " 166556,\n",
       " 1330355,\n",
       " 8957025,\n",
       " 8253662,\n",
       " 1747336,\n",
       " 5817090,\n",
       " 10870164,\n",
       " 9223556,\n",
       " 2189735,\n",
       " 3288123,\n",
       " 12225102,\n",
       " 7437143,\n",
       " 10543735,\n",
       " 11916237,\n",
       " 1356613,\n",
       " 12488115,\n",
       " 3331931,\n",
       " 12351500,\n",
       " 1476708,\n",
       " 4935554,\n",
       " 5860259,\n",
       " 9606475,\n",
       " 9885165,\n",
       " 325418,\n",
       " 1125496,\n",
       " 1662139,\n",
       " 4399634,\n",
       " 2828480,\n",
       " 7402025,\n",
       " 9592557,\n",
       " 1031705,\n",
       " 9119186,\n",
       " 1270812,\n",
       " 10306927,\n",
       " 183424,\n",
       " 11869883,\n",
       " 2547450,\n",
       " 12620572,\n",
       " 828896,\n",
       " 9964622,\n",
       " 8936551,\n",
       " 1298289,\n",
       " 4014291,\n",
       " 1155578,\n",
       " 9248466,\n",
       " 1000906,\n",
       " 2632918,\n",
       " 5945518,\n",
       " 8432180,\n",
       " 4976422,\n",
       " 4140278,\n",
       " 7317408,\n",
       " 2674682,\n",
       " 8380177,\n",
       " 8315944,\n",
       " 3793624,\n",
       " 1716310,\n",
       " 1412915,\n",
       " 799441,\n",
       " 9208887,\n",
       " 4289400,\n",
       " 9706268,\n",
       " 7479934,\n",
       " 35961,\n",
       " 8478048,\n",
       " 937440,\n",
       " 7901720,\n",
       " 10829044,\n",
       " 8330162,\n",
       " 11737596,\n",
       " 7832866,\n",
       " 1942580,\n",
       " 2749397,\n",
       " 461499,\n",
       " 3408531,\n",
       " 600024,\n",
       " 1309558,\n",
       " 6242967,\n",
       " 11976617,\n",
       " 2282638,\n",
       " 6071729,\n",
       " 12568657,\n",
       " 2085899,\n",
       " 9675069,\n",
       " 1089655,\n",
       " 8164941,\n",
       " 3040446,\n",
       " 7693832,\n",
       " 4650969,\n",
       " 9010895,\n",
       " 1404715,\n",
       " 9663207,\n",
       " 7802183,\n",
       " 12217498,\n",
       " 1075242,\n",
       " 1638800,\n",
       " 3764884,\n",
       " 6834936,\n",
       " 9044006,\n",
       " 492767,\n",
       " 9517769,\n",
       " 2929562,\n",
       " 2838526,\n",
       " 4321462,\n",
       " 5515908,\n",
       " 11669683,\n",
       " 5471005,\n",
       " 12094694,\n",
       " 12139179,\n",
       " 4268976,\n",
       " 7752814,\n",
       " 12466812,\n",
       " 9422763,\n",
       " 4587451,\n",
       " 2433519,\n",
       " 7319797,\n",
       " 3014199,\n",
       " 10981411,\n",
       " 2160604,\n",
       " 8301290,\n",
       " 12510040,\n",
       " 701049,\n",
       " 2126254,\n",
       " 1866775,\n",
       " 5426394,\n",
       " 9822528,\n",
       " 7986531,\n",
       " 940441,\n",
       " 8146744,\n",
       " 12607412,\n",
       " 5151608,\n",
       " 9768260,\n",
       " 5086345,\n",
       " 5390254,\n",
       " 1271349,\n",
       " 10942908,\n",
       " 7036867,\n",
       " 7337831,\n",
       " 992687,\n",
       " 4739210,\n",
       " 3775284,\n",
       " 2207770,\n",
       " 12467251,\n",
       " 8757495,\n",
       " 3747849,\n",
       " 462608,\n",
       " 7616010,\n",
       " 8943516,\n",
       " 11760970,\n",
       " 12020068,\n",
       " 1355644,\n",
       " 5298806,\n",
       " 485743,\n",
       " 7674438,\n",
       " 10389622,\n",
       " 1212334,\n",
       " 5997390,\n",
       " 12525250,\n",
       " 107049,\n",
       " 9398610,\n",
       " 1188943,\n",
       " 9999011,\n",
       " 2165443,\n",
       " 11893608,\n",
       " 6166802,\n",
       " 41169,\n",
       " 1382234,\n",
       " 254852,\n",
       " 1266449,\n",
       " 6293856,\n",
       " 8954282,\n",
       " 9262291,\n",
       " 2920481,\n",
       " 4111860,\n",
       " 12624483,\n",
       " 8291684,\n",
       " 1779091,\n",
       " 12323228,\n",
       " 10428030,\n",
       " 31750,\n",
       " 883102,\n",
       " 10052666,\n",
       " 9715752,\n",
       " 1171447,\n",
       " 787399,\n",
       " 3511520,\n",
       " 10204945,\n",
       " 8406398,\n",
       " 1386990,\n",
       " 4175247,\n",
       " 5769826,\n",
       " 7859524,\n",
       " 7350834,\n",
       " 2287769,\n",
       " 1058398,\n",
       " 3079520,\n",
       " 2711395,\n",
       " 10597533,\n",
       " 9343113,\n",
       " 11664357,\n",
       " 9506784,\n",
       " 7165823,\n",
       " 2909477,\n",
       " 1106753,\n",
       " 2377949,\n",
       " ...]"
      ]
     },
     "execution_count": 97,
     "metadata": {},
     "output_type": "execute_result"
    }
   ],
   "source": [
    "users = [x for x, y in G_users_tags.nodes(data=True) if y[\"type\"]==\"user\"]\n",
    "users"
   ]
  },
  {
   "cell_type": "code",
   "execution_count": 98,
   "metadata": {
    "scrolled": true
   },
   "outputs": [
    {
     "data": {
      "text/plain": [
       "['asp.net-core',\n",
       " 'c#',\n",
       " 'php',\n",
       " 'angularjs',\n",
       " 'javascript',\n",
       " 'regex',\n",
       " 'asp.net',\n",
       " 'sql-server',\n",
       " '.net',\n",
       " 'visual-studio',\n",
       " 'sql-server-2012',\n",
       " 'asp.net-mvc',\n",
       " 'html',\n",
       " 'entity-framework',\n",
       " 'entity-framework-core',\n",
       " 'bootstrap-4',\n",
       " 'css',\n",
       " 'reactjs',\n",
       " 'ruby-on-rails',\n",
       " 'java',\n",
       " 'django',\n",
       " 'python',\n",
       " 'android',\n",
       " 'ruby',\n",
       " 'ruby-on-rails-3',\n",
       " 'rspec',\n",
       " 'heroku',\n",
       " 'ruby-on-rails-4',\n",
       " 'sinatra',\n",
       " 'capybara',\n",
       " 'activerecord',\n",
       " 'postgresql',\n",
       " 'tdd',\n",
       " 'arrays',\n",
       " 'git',\n",
       " 'api',\n",
       " 'mongodb',\n",
       " 'mongoid',\n",
       " 'unit-testing',\n",
       " 'testing',\n",
       " 'hash',\n",
       " 'rubygems',\n",
       " 'gem',\n",
       " 'bdd',\n",
       " 'jquery',\n",
       " 'sql',\n",
       " 'flutter',\n",
       " 'dart',\n",
       " 'numpy',\n",
       " 'c++',\n",
       " 'r',\n",
       " 'grafana',\n",
       " 'node.js',\n",
       " 'cordova',\n",
       " 'mysql',\n",
       " 'graphql',\n",
       " 'ajax',\n",
       " 'sass',\n",
       " 'gulp',\n",
       " 'webpack',\n",
       " 'facebook',\n",
       " 'angular',\n",
       " 'c',\n",
       " 'typescript',\n",
       " 'perl',\n",
       " 'unix',\n",
       " 'haskell',\n",
       " 'bash',\n",
       " 'shell',\n",
       " 'django-views',\n",
       " 'django-templates',\n",
       " 'django-models',\n",
       " 'selenium',\n",
       " 'python-3.x',\n",
       " 'pandas',\n",
       " 'python-2.7',\n",
       " 'google-apps-script',\n",
       " 'oracle',\n",
       " 'plsql',\n",
       " 'vim',\n",
       " 'linux',\n",
       " 'xml',\n",
       " 'assembly',\n",
       " 'lxml',\n",
       " 'google-bigquery',\n",
       " 'json',\n",
       " 'x86',\n",
       " 'google-cloud-platform',\n",
       " 'elasticsearch',\n",
       " 'unicode',\n",
       " 'database',\n",
       " 'python-requests',\n",
       " 'excel',\n",
       " 'performance',\n",
       " 'django-forms',\n",
       " 'objective-c',\n",
       " 'csv',\n",
       " 'algorithm',\n",
       " 'spring',\n",
       " 'xpath',\n",
       " 'find',\n",
       " 'database-design',\n",
       " 'amazon-s3',\n",
       " 'video',\n",
       " 'mechanicalturk',\n",
       " 'ffmpeg',\n",
       " 'macos',\n",
       " 'ios',\n",
       " 'boto',\n",
       " 'amazon-web-services',\n",
       " 'xsd',\n",
       " 'x86-64',\n",
       " 'gcc',\n",
       " 'multiprocessing',\n",
       " 'utf-8',\n",
       " 'logging',\n",
       " 'list',\n",
       " 'curl',\n",
       " 'ggplot2',\n",
       " 'dplyr',\n",
       " 'r-markdown',\n",
       " 'blogdown',\n",
       " 'redux',\n",
       " 'wordpress',\n",
       " 'ocaml',\n",
       " 'cuda',\n",
       " 'c++11',\n",
       " 'cmake',\n",
       " 'c++17',\n",
       " 'templates',\n",
       " 'idiomatic',\n",
       " 'pointers',\n",
       " 'gpgpu',\n",
       " 'c++-standard-library',\n",
       " 'c++14',\n",
       " 'opencl',\n",
       " 'vector',\n",
       " 'boost',\n",
       " 'eclipse',\n",
       " 'idioms',\n",
       " 'nvcc',\n",
       " 'eclipse-cdt',\n",
       " 'multithreading',\n",
       " 'build',\n",
       " 'compiler-optimization',\n",
       " 'constexpr',\n",
       " 'language-lawyer',\n",
       " 'string',\n",
       " 'gpu',\n",
       " 'stl',\n",
       " 'inheritance',\n",
       " 'ptx',\n",
       " 'c++20',\n",
       " 'optimization',\n",
       " 'constants',\n",
       " 'memory-management',\n",
       " 'struct',\n",
       " 'class',\n",
       " 'unique-ptr',\n",
       " 'compiler-warnings',\n",
       " 'gpu-shared-memory',\n",
       " 'nvidia',\n",
       " 'variadic-templates',\n",
       " 'buildconfiguration',\n",
       " 'memory',\n",
       " 'installation',\n",
       " 'reflection',\n",
       " 'clearcase',\n",
       " 'c-preprocessor',\n",
       " 'template-meta-programming',\n",
       " 'clang',\n",
       " 'linker',\n",
       " 'mercurial',\n",
       " 'parallel-processing',\n",
       " 'doxygen',\n",
       " 'iterator',\n",
       " 'smart-pointers',\n",
       " 'stdstring',\n",
       " 'command-line',\n",
       " 'constructor',\n",
       " 'function',\n",
       " 'compiler-errors',\n",
       " 'compilation',\n",
       " 'g++',\n",
       " 'enums',\n",
       " 'cython',\n",
       " 'cpython',\n",
       " 'numba',\n",
       " 'clojure',\n",
       " 'clojurescript',\n",
       " 'uwp',\n",
       " 'wpf',\n",
       " 'delphi',\n",
       " 'qt',\n",
       " 'symfony',\n",
       " 'doctrine-orm',\n",
       " 'fosuserbundle',\n",
       " 'twig',\n",
       " 'forms',\n",
       " 'vue.js',\n",
       " 'vuetify.js',\n",
       " 'shopify',\n",
       " 'react-native',\n",
       " 'aws-amplify',\n",
       " 'snowflake-cloud-data-platform',\n",
       " 'iphone',\n",
       " 'directshow',\n",
       " 'filter',\n",
       " 'dspack',\n",
       " 'windows-phone-8',\n",
       " 'vcl',\n",
       " 'windows-store-apps',\n",
       " 'visual-studio-2013',\n",
       " 'kotlin',\n",
       " 'http',\n",
       " 'wcf',\n",
       " 'sockets',\n",
       " 'firebase',\n",
       " 'google-cloud-firestore',\n",
       " 'prestashop',\n",
       " 'prestashop-1.7',\n",
       " 'scala',\n",
       " 'android-fragments',\n",
       " 'vb.net',\n",
       " 'spring-boot',\n",
       " 'java-8',\n",
       " 'java-stream',\n",
       " 'apache-kafka',\n",
       " 'jackson',\n",
       " 'spring-kafka',\n",
       " 'arraylist',\n",
       " 'collections',\n",
       " 'lambda',\n",
       " 'mockito',\n",
       " 'kafka-consumer-api',\n",
       " 'datetime',\n",
       " 'date',\n",
       " 'hashmap',\n",
       " 'junit',\n",
       " 'sorting',\n",
       " 'completable-future',\n",
       " 'swift',\n",
       " 'phonegap-plugins',\n",
       " 'xcode',\n",
       " 'backbone.js',\n",
       " 'ibm-mobilefirst',\n",
       " 'xcode6',\n",
       " 'jquery-mobile',\n",
       " 'cordova-plugins',\n",
       " 'phonegap-build',\n",
       " 'ionic-framework',\n",
       " 'uitableview',\n",
       " 'aurelia',\n",
       " 'gradle',\n",
       " 'maven',\n",
       " 'moose',\n",
       " 'hibernate',\n",
       " 'intellij-idea',\n",
       " 'spring-security',\n",
       " 'spring-mvc',\n",
       " 'spring-data',\n",
       " 'jpa',\n",
       " 'xamarin',\n",
       " 'xamarin.forms',\n",
       " 'android-motionlayout',\n",
       " 'apache-spark',\n",
       " 'rtc',\n",
       " 'machine-learning',\n",
       " 'blackberry',\n",
       " 'pytorch',\n",
       " 'deep-learning',\n",
       " 'neural-network',\n",
       " 'akka',\n",
       " 'design-patterns',\n",
       " 'tomcat',\n",
       " 'java-me',\n",
       " 'tensorflow',\n",
       " 'docker',\n",
       " 'google-app-engine',\n",
       " 'jsp',\n",
       " 'rest',\n",
       " 'scikit-learn',\n",
       " 'struts2',\n",
       " 'google-maps',\n",
       " 'google-maps-api-3',\n",
       " 'plot',\n",
       " '.htaccess',\n",
       " 'jags',\n",
       " 'laravel',\n",
       " 'excel-2010',\n",
       " 'statistics',\n",
       " 'excel-formula',\n",
       " 'spreadsheet',\n",
       " 'vba',\n",
       " 'google-sheets',\n",
       " 'grails',\n",
       " 'swing',\n",
       " 'laravel-5',\n",
       " 'grails-2.0',\n",
       " 'epplus',\n",
       " '.net-core',\n",
       " 'web-scraping',\n",
       " 'parsing',\n",
       " 'appium',\n",
       " 'ecmascript-6',\n",
       " 'jquery-deferred',\n",
       " 'shiny',\n",
       " 'dataframe',\n",
       " 'mongoose',\n",
       " 'express',\n",
       " 'xamarin.ios',\n",
       " 'mvvmcross',\n",
       " 'xamarin.android',\n",
       " 'bluetooth-lowenergy',\n",
       " 'windows-phone-7',\n",
       " 'powershell',\n",
       " 'sqlalchemy',\n",
       " 'flask',\n",
       " 'windows',\n",
       " 'dictionary',\n",
       " 'tkinter',\n",
       " 'django-rest-framework',\n",
       " 'oop',\n",
       " 'qml',\n",
       " 'unity3d',\n",
       " 'winforms',\n",
       " 'pyspark',\n",
       " 'data.table',\n",
       " 'apache-spark-sql',\n",
       " 'matrix',\n",
       " 'tidyverse',\n",
       " 'group-by',\n",
       " 'tidyr',\n",
       " 'spark-dataframe',\n",
       " 'subset',\n",
       " 'split',\n",
       " 'indexing',\n",
       " 'loops',\n",
       " 'vuejs2',\n",
       " 'purrr',\n",
       " 'rdd',\n",
       " 'for-loop',\n",
       " 'apply',\n",
       " 'pyspark-sql',\n",
       " 'merge',\n",
       " 'aggregate',\n",
       " 'count',\n",
       " 'multidimensional-array',\n",
       " 'pandas-groupby',\n",
       " 'beautifulsoup',\n",
       " 'vectorization',\n",
       " 'mutate',\n",
       " 'replace',\n",
       " 'reshape',\n",
       " 'stringr',\n",
       " 'conditional',\n",
       " 'flash',\n",
       " 'actionscript-3',\n",
       " 'jestjs',\n",
       " 'angularjs-ng-repeat',\n",
       " 'angular-ui-router',\n",
       " 'charts',\n",
       " 'angularjs-directive',\n",
       " 'highcharts',\n",
       " 'react-redux',\n",
       " 'discord.py',\n",
       " 'discord',\n",
       " 'discord.py-rewrite',\n",
       " 'solr',\n",
       " 'wxpython',\n",
       " 'hadoop',\n",
       " 'bottle',\n",
       " 'zend-framework',\n",
       " 'phpunit',\n",
       " 'three.js',\n",
       " 'webgl',\n",
       " 'keras',\n",
       " 'd3.js',\n",
       " 'svg',\n",
       " 'glsl',\n",
       " 'ag-grid',\n",
       " 'series',\n",
       " 'emacs',\n",
       " 'go',\n",
       " 'sqlite',\n",
       " 'matplotlib',\n",
       " 'matlab',\n",
       " 'firebase-realtime-database',\n",
       " 'google-cloud-functions',\n",
       " 'protocols',\n",
       " 'core-data',\n",
       " 'rust',\n",
       " 'checkbox',\n",
       " 'listview',\n",
       " 'cocoa',\n",
       " 'kdb',\n",
       " 'masm',\n",
       " 'file',\n",
       " 'awk',\n",
       " 'azure',\n",
       " 'aws-lambda',\n",
       " 'amazon-dynamodb',\n",
       " 'amazon-cloudfront',\n",
       " 'aws-api-gateway',\n",
       " 'amazon-ec2',\n",
       " 'aws-sdk',\n",
       " 'mfc',\n",
       " 'inno-setup',\n",
       " 'visual-c++',\n",
       " 'xslt-1.0',\n",
       " 'pascalscript',\n",
       " 'xaml',\n",
       " 'tortoisegit',\n",
       " 'visual-studio-2017',\n",
       " 'microsoft-graph-api',\n",
       " 'combobox',\n",
       " 'visual-studio-2019',\n",
       " 'twitter-bootstrap',\n",
       " 'swift3',\n",
       " 'angular6',\n",
       " 'react-native-android',\n",
       " 'react-native-ios',\n",
       " 'backpack-for-laravel',\n",
       " 'cocoa-touch',\n",
       " 'joomla',\n",
       " 'sinon',\n",
       " 'canvas',\n",
       " 'qt5',\n",
       " 'yocto',\n",
       " 'cakephp',\n",
       " 'ssis',\n",
       " 'tableau-api',\n",
       " 'spring-batch',\n",
       " 'angular-dart',\n",
       " 'gwt',\n",
       " 'spring-roo',\n",
       " 'sql-server-2008',\n",
       " 'netsuite',\n",
       " 'pyspark-dataframes',\n",
       " 'hive',\n",
       " 'laravel-4',\n",
       " 'gremlin',\n",
       " 'amazon-neptune',\n",
       " 'android-studio',\n",
       " 'kubernetes',\n",
       " 'rxjs',\n",
       " 'jakarta-ee',\n",
       " 'chef-infra',\n",
       " 'ninject',\n",
       " 'jax-rs',\n",
       " 'openshift',\n",
       " 'ngrx',\n",
       " 'scrapy',\n",
       " 'domdocument',\n",
       " 'xslt',\n",
       " 'nginx',\n",
       " 'ruby-on-rails-5',\n",
       " 'promise',\n",
       " 'bluebird',\n",
       " 'object',\n",
       " 'babeljs',\n",
       " 'lodash',\n",
       " 'npm',\n",
       " 'error-handling',\n",
       " 'asynchronous',\n",
       " 'underscore.js',\n",
       " 'callback',\n",
       " 'mocha',\n",
       " 'middleware',\n",
       " 'module',\n",
       " 'tfs',\n",
       " 'servlets',\n",
       " 'amazon-redshift',\n",
       " 'suitecrm',\n",
       " 'sugarcrm',\n",
       " 'javascript-objects',\n",
       " 'dom',\n",
       " 'reduce',\n",
       " 'coldfusion',\n",
       " 'coldfusion-9',\n",
       " 'twitter-bootstrap-3',\n",
       " 'sybase',\n",
       " 'cfloop',\n",
       " 'coldfusion-2016',\n",
       " 'stored-procedures',\n",
       " 'jupyterhub',\n",
       " 'jupyter-notebook',\n",
       " 'swift2',\n",
       " 'azure-ad-b2c',\n",
       " 'datagridview',\n",
       " 'linq',\n",
       " 'asp.net-mvc-4',\n",
       " 'linq-to-entities',\n",
       " 'gridview',\n",
       " 'c#-4.0',\n",
       " 'asp.net-mvc-3',\n",
       " 'tsql',\n",
       " 'rabbitmq',\n",
       " 'laravel-5.1',\n",
       " 'ubuntu',\n",
       " 'laravel-5.8',\n",
       " 'apache',\n",
       " 'docker-compose',\n",
       " 'dockerfile',\n",
       " 'ssh',\n",
       " 'sublimetext3',\n",
       " 'email',\n",
       " 'cygwin',\n",
       " 'stata',\n",
       " 'lubridate',\n",
       " 'sparklyr',\n",
       " 'aggregation-framework',\n",
       " 'fuzzywuzzy',\n",
       " 'core-audio',\n",
       " 'reporting-services',\n",
       " 'jenkins',\n",
       " 'asp.net-web-api',\n",
       " 'autofac',\n",
       " 'identityserver3',\n",
       " 'generics',\n",
       " 'botframework',\n",
       " 'playframework',\n",
       " 'slick',\n",
       " 'jsf',\n",
       " 'primefaces',\n",
       " 'google-kubernetes-engine',\n",
       " 'jboss-arquillian',\n",
       " 'cognos',\n",
       " 'cognos-11',\n",
       " 'cognos-10',\n",
       " 'cognos-bi',\n",
       " 'meteor',\n",
       " 'gtk',\n",
       " 'typo3',\n",
       " 'typo3-8.x',\n",
       " 'java-9',\n",
       " 'java-module',\n",
       " 'java-11',\n",
       " 'optional',\n",
       " 'java-platform-module-system',\n",
       " 'collectors',\n",
       " 'functional-programming',\n",
       " 'module-info',\n",
       " 'functional-interface',\n",
       " 'jshell',\n",
       " 'selenium-webdriver',\n",
       " 'java-10',\n",
       " 'testng',\n",
       " 'grouping',\n",
       " 'comparator',\n",
       " 'dropwizard',\n",
       " 'automation',\n",
       " 'if-statement',\n",
       " 'javafx',\n",
       " 'telerik',\n",
       " 'visual-studio-2010',\n",
       " 'windows-applications',\n",
       " '.net-4.0',\n",
       " 'radgrid',\n",
       " 'android-layout',\n",
       " 'netbeans',\n",
       " 'codenameone',\n",
       " 'python-asyncio',\n",
       " 'next.js',\n",
       " 'react-hooks',\n",
       " 'use-state',\n",
       " 'uicollectionview',\n",
       " 'uiview',\n",
       " 'uiviewcontroller',\n",
       " 'uitextfield',\n",
       " 'animation',\n",
       " 'uibutton',\n",
       " 'constraints',\n",
       " 'jqgrid',\n",
       " 'free-jqgrid',\n",
       " 'jquery-ui',\n",
       " 'mono',\n",
       " 'razor',\n",
       " 'asp.net-mvc-2',\n",
       " 'plpgsql',\n",
       " 'postgresql-9.1',\n",
       " 'visual-foxpro',\n",
       " 'g1ant',\n",
       " 'rpa',\n",
       " 'programming-languages',\n",
       " 'operating-system',\n",
       " 'latex',\n",
       " 'computer-science',\n",
       " 'github',\n",
       " 'process',\n",
       " 'types',\n",
       " 'makefile',\n",
       " 'f#',\n",
       " 'blazor',\n",
       " 'xquery',\n",
       " 'asp.net-mvc-5',\n",
       " 'f#-data',\n",
       " 'eloquent',\n",
       " 'lua',\n",
       " 'yii2',\n",
       " 'user-interface',\n",
       " 'tkinter-entry',\n",
       " 'tkinter-canvas',\n",
       " 'widget',\n",
       " 'button',\n",
       " 'swift4',\n",
       " 'castle-windsor',\n",
       " 'dependency-injection',\n",
       " 'inversion-of-control',\n",
       " 'cassandra',\n",
       " 'odoo',\n",
       " 'vala',\n",
       " 'tcl',\n",
       " 'racket',\n",
       " 'netlogo',\n",
       " 'scheme',\n",
       " 'angular7',\n",
       " 'angular8',\n",
       " 'asp.net-core-3.1',\n",
       " 'asp.net-core-mvc',\n",
       " 'identityserver4',\n",
       " 'asp.net-core-2.2',\n",
       " 'angular9',\n",
       " 'neo4j',\n",
       " 'hyperledger-fabric',\n",
       " 'office-js',\n",
       " 'outlook-web-addins',\n",
       " 'boto3',\n",
       " 'aws-cli',\n",
       " 'jq',\n",
       " 'wso2',\n",
       " 'wso2-am',\n",
       " 'vue-component',\n",
       " 'vuex',\n",
       " 'clips',\n",
       " 'aframe',\n",
       " 'genetic-algorithm',\n",
       " 'pdf',\n",
       " 'antlr',\n",
       " 'andengine',\n",
       " 'ansible',\n",
       " 'runtime-error',\n",
       " 'variables',\n",
       " 'jenkins-pipeline',\n",
       " 'avfoundation',\n",
       " 'azure-cosmosdb',\n",
       " 'sas',\n",
       " 'pyqt4',\n",
       " 'pyqt',\n",
       " 'pyside',\n",
       " 'oracle-apex',\n",
       " 'biztalk',\n",
       " 'biztalk-2010',\n",
       " 'outsystems',\n",
       " 'salesforce',\n",
       " 'struts',\n",
       " 'httpclient',\n",
       " 'oracle11g',\n",
       " 'sharepoint',\n",
       " 'sharepoint-2010',\n",
       " 'sharepoint-2013',\n",
       " 'electron',\n",
       " 'electron-builder',\n",
       " 'python-3.6',\n",
       " 'azure-devops',\n",
       " 'debugging',\n",
       " 'opencv',\n",
       " 'flutter-layout',\n",
       " 'flutter-dependencies',\n",
       " '3d',\n",
       " 'graphics',\n",
       " 'cad',\n",
       " 'triangulation',\n",
       " 'mesh',\n",
       " 'corda',\n",
       " 'dnx',\n",
       " 'istio',\n",
       " 'isabelle',\n",
       " 'coq',\n",
       " 'liferay',\n",
       " 'liferay-6',\n",
       " 'ionic4',\n",
       " 'plotly',\n",
       " 'dt',\n",
       " 'shinydashboard',\n",
       " 'typescript-typings',\n",
       " 'styled-components',\n",
       " 'react-router',\n",
       " 'react-router-dom',\n",
       " 'firebase-admin',\n",
       " 'bokeh',\n",
       " 'swiftui',\n",
       " 'devise',\n",
       " 'rails-activerecord',\n",
       " 'model-view-controller',\n",
       " 'simple-form',\n",
       " 'asset-pipeline',\n",
       " 'rails-routing',\n",
       " 'linux-kernel',\n",
       " 'yii',\n",
       " 'kernel-module',\n",
       " 'image-processing',\n",
       " 'video-streaming',\n",
       " 'streaming',\n",
       " 'laravel-5.4',\n",
       " 'nuxt.js',\n",
       " 'windows-runtime',\n",
       " 'case-class',\n",
       " 'prometheus',\n",
       " 'mql5',\n",
       " 'metatrader5',\n",
       " 'model',\n",
       " 'capistrano',\n",
       " 'ruby-on-rails-3.1',\n",
       " 'validation',\n",
       " 'image',\n",
       " 'associations',\n",
       " 'routes',\n",
       " 'facebook-graph-api',\n",
       " 'osx-lion',\n",
       " 'assets',\n",
       " 'paperclip',\n",
       " 'join',\n",
       " 'cron',\n",
       " 'authentication',\n",
       " 'realm',\n",
       " 'android-intent',\n",
       " 'bitmap',\n",
       " 'adapter',\n",
       " 'android-activity',\n",
       " 'imageview',\n",
       " 'webforms',\n",
       " '.net-2.0',\n",
       " 'web-services',\n",
       " 'crystal-reports',\n",
       " 'caffe',\n",
       " 'tensorrt',\n",
       " 'conv-neural-network',\n",
       " 'ipython',\n",
       " 'visual-studio-code',\n",
       " 'scipy',\n",
       " 'statsmodels',\n",
       " 'nim-lang',\n",
       " 'intersystems-cache',\n",
       " 'pyqt5',\n",
       " 'adobe-illustrator',\n",
       " 'extendscript',\n",
       " 'ionic3',\n",
       " 'ionic2',\n",
       " 'entity-framework-6',\n",
       " 'ionic-native',\n",
       " 'ef-code-first',\n",
       " 'angularfire2',\n",
       " 'observable',\n",
       " 'x-editable',\n",
       " 'angular-ui-grid',\n",
       " 'spring-data-jpa',\n",
       " 'angular5',\n",
       " 'material-ui',\n",
       " 'retrofit',\n",
       " 'retrofit2',\n",
       " 'reference-class',\n",
       " 'azure-mobile-services',\n",
       " 'vsix',\n",
       " 'fortran',\n",
       " 'typo3-9.x',\n",
       " 'groovy',\n",
       " 'wxwidgets',\n",
       " 'silverlight',\n",
       " 'nix',\n",
       " 'nixos',\n",
       " 'xmonad',\n",
       " 'haskell-stack',\n",
       " 'kubectl',\n",
       " 'cabal',\n",
       " 'forecast',\n",
       " 'opengl',\n",
       " 'kendo-ui',\n",
       " 'kendo-asp.net-mvc',\n",
       " 'asp.net-identity',\n",
       " 'primeng',\n",
       " 'presto',\n",
       " 'sed',\n",
       " 'grep',\n",
       " 'apache-kafka-streams',\n",
       " 'spring-webflux',\n",
       " 'project-reactor',\n",
       " 'spring-cloud',\n",
       " 'spring-cloud-stream',\n",
       " 'reactive-programming',\n",
       " 'rx-java',\n",
       " 'keycloak',\n",
       " 'aws-cdk',\n",
       " 'gorm',\n",
       " 'spring-data-neo4j',\n",
       " 'amazon-cloudformation',\n",
       " 'polymer-1.0',\n",
       " 'polymer',\n",
       " 'pom.xml',\n",
       " 'dependencies',\n",
       " 'nexus',\n",
       " 'maven-3',\n",
       " 'maven-plugin',\n",
       " 'jar',\n",
       " 'dependency-management',\n",
       " 'artifactory',\n",
       " 'repository',\n",
       " 'maven-2',\n",
       " 'maven-assembly-plugin',\n",
       " 'ant',\n",
       " 'continuous-integration',\n",
       " 'maven-archetype',\n",
       " 'maven-release-plugin',\n",
       " 'maven-site-plugin',\n",
       " 'multi-module',\n",
       " 'm2e',\n",
       " 'transitive-dependency',\n",
       " 'm2eclipse',\n",
       " 'deployment',\n",
       " 'parent-pom',\n",
       " 'eclipse-plugin',\n",
       " 'plugins',\n",
       " 'svn',\n",
       " 'sbt',\n",
       " 'scala.js',\n",
       " 'zio',\n",
       " 'scalatest',\n",
       " 'play-json',\n",
       " 'woocommerce',\n",
       " 'scenekit',\n",
       " 'maps',\n",
       " 'jaxb',\n",
       " 'jersey',\n",
       " 'ejb',\n",
       " 'cdi',\n",
       " 'android-recyclerview',\n",
       " 'object-detection',\n",
       " 'powerbi',\n",
       " 'powerbi-desktop',\n",
       " 'powerbi-custom-visuals',\n",
       " 'powerbi-datasource',\n",
       " 'power-bi-report-server',\n",
       " 'feathersjs',\n",
       " 'powerbi-embedded',\n",
       " 'amcharts',\n",
       " 'shinyapps',\n",
       " 'oracleforms',\n",
       " 'oracle10g',\n",
       " 'wso2carbon',\n",
       " 'wso2ei',\n",
       " 'wso2esb',\n",
       " 'coded-ui-tests',\n",
       " 'arm',\n",
       " 'uikit',\n",
       " 'ssrs-2008',\n",
       " 'laravel-blade',\n",
       " 'codeigniter',\n",
       " 'jenkins-groovy',\n",
       " 'jenkins-plugins',\n",
       " 'selenium-chromedriver',\n",
       " 'devops',\n",
       " 'airflow',\n",
       " 'iis',\n",
       " 'django-queryset',\n",
       " 'touch',\n",
       " 'tastypie',\n",
       " 'amazon-ecs',\n",
       " 'requirejs',\n",
       " 'view',\n",
       " 'cocos2d-iphone',\n",
       " 'uiimage',\n",
       " 'extjs',\n",
       " 'extjs4.1',\n",
       " 'extjs4',\n",
       " 'grid',\n",
       " 'windows-8',\n",
       " 'microsoft-metro',\n",
       " 'visual-studio-2008',\n",
       " 'vb6',\n",
       " 'winjs',\n",
       " 'mvvm',\n",
       " 'msbuild',\n",
       " '.net-3.5',\n",
       " 'visual-studio-2012',\n",
       " 'angular-material',\n",
       " 'android-architecture-navigation',\n",
       " 'android-navigation',\n",
       " 'android-jetpack-compose',\n",
       " 'android-viewmodel',\n",
       " 'android-architecture-components',\n",
       " 'html-framework-7',\n",
       " 'google-app-engine-python',\n",
       " 'shopware',\n",
       " 'dvcs',\n",
       " 'internet-explorer',\n",
       " 'es6-promise',\n",
       " 'haml',\n",
       " 'winapi',\n",
       " 'susy-compass',\n",
       " 'formik',\n",
       " 'blazor-server-side',\n",
       " 'yup',\n",
       " 'asp.net-blazor',\n",
       " 'react-navigation',\n",
       " 'd',\n",
       " 'dmd',\n",
       " 'webview',\n",
       " 'bison',\n",
       " 'octopus-deploy',\n",
       " 'dynamics-crm',\n",
       " 'android-jetpack',\n",
       " 'kotlin-coroutines',\n",
       " 'android-livedata',\n",
       " 'anko',\n",
       " 'html5-video',\n",
       " 'flexbox',\n",
       " 'influxdb',\n",
       " 'phoenix-framework',\n",
       " 'elixir',\n",
       " 'ecto',\n",
       " 'azure-functions',\n",
       " 'magento',\n",
       " 'robotframework',\n",
       " 'filemaker',\n",
       " 'linkedin',\n",
       " 'linkedin-api',\n",
       " 'domain-driven-design',\n",
       " 'transactions',\n",
       " 'webdriver',\n",
       " 'bpmn',\n",
       " 'antd',\n",
       " 'sapui5',\n",
       " 'sympy',\n",
       " 'wicket',\n",
       " 'lucene',\n",
       " 'silverlight-4.0',\n",
       " 'silverlight-5.0',\n",
       " 'drupal',\n",
       " 'drupal-7',\n",
       " 'thinking-sphinx',\n",
       " 'spring-data-mongodb',\n",
       " 'redis',\n",
       " 'spring-data-redis',\n",
       " 'jedis',\n",
       " 'spring-rest',\n",
       " 'knockout.js',\n",
       " 'scanf',\n",
       " 'printf',\n",
       " 'malloc',\n",
       " 'char',\n",
       " 'character',\n",
       " 'initialization',\n",
       " 'null',\n",
       " 'integer',\n",
       " 'c-strings',\n",
       " 'yii2-advanced-app',\n",
       " 'laravel-query-builder',\n",
       " 'qtquick2',\n",
       " 'pthreads',\n",
       " 'qt-quick',\n",
       " 'mutex',\n",
       " 'qthread',\n",
       " 'angular-reactive-forms',\n",
       " 'ipad',\n",
       " 'ember.js',\n",
       " 'safari',\n",
       " 'mobile-safari',\n",
       " 'ember-cli',\n",
       " 'media-queries',\n",
       " 'viewport',\n",
       " 'ide',\n",
       " 'win-universal-app',\n",
       " 'windows-10',\n",
       " 'flutter-web',\n",
       " 'kogrid',\n",
       " 'biztalk-2016',\n",
       " 'tfsbuild',\n",
       " 'biztalk-2013r2',\n",
       " 'typescript2.0',\n",
       " 'aws-iot',\n",
       " 'azure-pipelines',\n",
       " 'aws-iot-core',\n",
       " 'docker-image',\n",
       " 'etl',\n",
       " 'nhibernate',\n",
       " 'acumatica',\n",
       " 'anypoint-studio',\n",
       " 'mule',\n",
       " 'dataweave',\n",
       " 'nestjs',\n",
       " 'protractor',\n",
       " 'data-structures',\n",
       " 'linked-list',\n",
       " 'recursion',\n",
       " 'react-native-maps',\n",
       " 'bootstrap-vue',\n",
       " 'webassembly',\n",
       " 'emscripten',\n",
       " 'cypress',\n",
       " 'cakephp-3.2',\n",
       " ...]"
      ]
     },
     "execution_count": 98,
     "metadata": {},
     "output_type": "execute_result"
    }
   ],
   "source": [
    "tags = [x for x, y in G_users_tags.nodes(data=True) if y[\"type\"]==\"tag\"]\n",
    "tags"
   ]
  },
  {
   "cell_type": "code",
   "execution_count": 99,
   "metadata": {
    "scrolled": true
   },
   "outputs": [
    {
     "data": {
      "text/plain": [
       "[506147, 5077196, 10021083, 1303170, 825920]"
      ]
     },
     "execution_count": 99,
     "metadata": {},
     "output_type": "execute_result"
    }
   ],
   "source": [
    "def adamic_adar_similarity(node, n=5, get_weights=False):\n",
    "    global G_users_tags\n",
    "    common_users_dict = {}\n",
    "    \n",
    "    for x in G_users_tags.neighbors(node):\n",
    "        for y in G_users_tags.neighbors(x):\n",
    "            if y == node:\n",
    "                continue\n",
    "            if G_users_tags.nodes[y][\"type\"] == G_users_tags.nodes[node][\"type\"]:\n",
    "                commons = common_users_dict.get(y)\n",
    "                if commons==None:\n",
    "                    common_users_dict.update({y : [x]})\n",
    "                else:\n",
    "                    commons.append(x)\n",
    "                    common_users_dict.update({y : commons})\n",
    "                    \n",
    "    users = []\n",
    "    weights = []\n",
    "                    \n",
    "    for key, values in common_users_dict.items():\n",
    "        w = 0.0\n",
    "        for e in values:\n",
    "            w = w + 1 / math.log(G_users_tags.degree(e))\n",
    "        users.append(key) \n",
    "        weights.append(w)\n",
    "        \n",
    "    if get_weights:\n",
    "        return list(zip(users, weights))[:n]\n",
    "    \n",
    "    return users[:n]\n",
    "\n",
    "adamic_adar_similarity(2557682)"
   ]
  },
  {
   "cell_type": "code",
   "execution_count": 100,
   "metadata": {},
   "outputs": [
    {
     "data": {
      "text/plain": [
       "[('python', 10.706228261232313),\n",
       " ('python-3.x', 4.9032091903595525),\n",
       " ('list', 3.612269845988118),\n",
       " ('dictionary', 2.6970770171218783),\n",
       " ('pulp', 0.45511961331341866)]"
      ]
     },
     "execution_count": 100,
     "metadata": {},
     "output_type": "execute_result"
    }
   ],
   "source": [
    "adamic_adar_similarity(\"networkx\", get_weights=True)"
   ]
  }
 ],
 "metadata": {
  "kernelspec": {
   "display_name": "Python 3",
   "language": "python",
   "name": "python3"
  },
  "language_info": {
   "codemirror_mode": {
    "name": "ipython",
    "version": 3
   },
   "file_extension": ".py",
   "mimetype": "text/x-python",
   "name": "python",
   "nbconvert_exporter": "python",
   "pygments_lexer": "ipython3",
   "version": "3.7.4"
  }
 },
 "nbformat": 4,
 "nbformat_minor": 2
}
